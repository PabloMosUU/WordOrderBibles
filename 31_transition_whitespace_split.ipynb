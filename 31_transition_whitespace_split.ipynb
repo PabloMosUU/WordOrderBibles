{
 "cells": [
  {
   "cell_type": "code",
   "execution_count": null,
   "id": "a1ad2144-6b51-4185-b450-90f06b093ee1",
   "metadata": {},
   "outputs": [],
   "source": [
    "import pandas as pd\n",
    "import matplotlib.pyplot as plt\n",
    "import json"
   ]
  },
  {
   "cell_type": "code",
   "execution_count": null,
   "id": "6eecc158-48aa-4668-8d64-49a64e6ae4dc",
   "metadata": {},
   "outputs": [],
   "source": [
    "df_wp = pd.read_csv(\"../WordOrderBibles_HPC/output/KoplenigEtAl/WordPasting/entropies_aso-x-bible.txt.csv\")\n",
    "df_ws = pd.read_csv(\"output/KoplenigEtAl/WordSplitting/entropies_aso-x-bible.txt.csv\")"
   ]
  },
  {
   "cell_type": "code",
   "execution_count": null,
   "id": "a965b2e5-0a8c-4a68-b2d6-57328f7c6217",
   "metadata": {},
   "outputs": [],
   "source": [
    "acts_wp = df_wp[df_wp['book_id'] == 44]"
   ]
  },
  {
   "cell_type": "code",
   "execution_count": null,
   "id": "14167275-4431-48b3-9716-60fca6a26eea",
   "metadata": {},
   "outputs": [],
   "source": [
    "acts_ws = df_ws[df_ws['book_id'] == 44]"
   ]
  },
  {
   "cell_type": "code",
   "execution_count": null,
   "id": "8fd5b73b-1659-499c-8adc-3ed4a4f252a7",
   "metadata": {},
   "outputs": [],
   "source": [
    "print(len(acts_wp), len(acts_ws))"
   ]
  },
  {
   "cell_type": "code",
   "execution_count": null,
   "id": "28084e47-d5d9-42c8-87fb-b373c1cdec39",
   "metadata": {},
   "outputs": [],
   "source": [
    "acts_wp[acts_wp['iter_id'] == 0]"
   ]
  },
  {
   "cell_type": "code",
   "execution_count": null,
   "id": "e680f01f-97d3-4699-b96d-58d9b74a4419",
   "metadata": {},
   "outputs": [],
   "source": [
    "acts_ws[acts_ws['iter_id'] == 0]"
   ]
  },
  {
   "cell_type": "markdown",
   "id": "66f64283-435c-4647-bd43-903341cfc237",
   "metadata": {},
   "source": [
    "# Check if the WhitespaceSplit pre-tokenizer makes a difference"
   ]
  },
  {
   "cell_type": "code",
   "execution_count": null,
   "id": "cb1a9573-c641-45dc-9690-1801abc98e64",
   "metadata": {},
   "outputs": [],
   "source": [
    "new_filename = 'output/KoplenigEtAl/WordSplitting/entropies_aso-x-bible_whitespacesplit.txt.csv'\n",
    "df_ws_whitespacesplit = pd.read_csv(new_filename)\n",
    "acts_ws_whitespacesplit = df_ws_whitespacesplit[df_ws_whitespacesplit['book_id'] == 44]\n",
    "acts_ws_whitespacesplit[acts_ws_whitespacesplit['iter_id'] == 0]"
   ]
  },
  {
   "cell_type": "markdown",
   "id": "c105d17b-a060-4531-91f0-920738d458d4",
   "metadata": {},
   "source": [
    "D_order seems to be \"fixed\" now, although D_structure still looks suspiciously different. In any case, let's look at the plot I showed Damián once again, with these new values."
   ]
  },
  {
   "cell_type": "code",
   "execution_count": null,
   "id": "00cc9fbb-c222-43c3-8c88-d9a15c8400d1",
   "metadata": {},
   "outputs": [],
   "source": [
    "df_wp['experiment'] = 'pasting'\n",
    "df_ws_whitespacesplit['experiment'] = 'splitting'"
   ]
  },
  {
   "cell_type": "code",
   "execution_count": null,
   "id": "7431ad92-1005-441b-a7fe-6940d6b2adac",
   "metadata": {},
   "outputs": [],
   "source": [
    "df = pd.concat([df_wp, df_ws_whitespacesplit])"
   ]
  },
  {
   "cell_type": "code",
   "execution_count": null,
   "id": "b0eb7e5f-add0-4667-b26d-e5ec7bebec4d",
   "metadata": {},
   "outputs": [],
   "source": [
    "for lbl, grp in df.groupby('book'):\n",
    "    xs = grp[grp['experiment'] == 'splitting']['D_order'].tolist()\n",
    "    ys = grp[grp['experiment'] == 'splitting']['D_structure'].tolist()\n",
    "    xp = grp[grp['experiment'] == 'pasting']['D_order'].tolist()\n",
    "    yp = grp[grp['experiment'] == 'pasting']['D_structure'].tolist()\n",
    "    labelss = grp[grp['experiment'] == 'splitting']['iter_id'].tolist()\n",
    "    labelsp = grp[grp['experiment'] == 'pasting']['iter_id'].tolist()\n",
    "    fig, ax = plt.subplots()\n",
    "    ax.scatter(xs, ys)\n",
    "    ax.scatter(xp, yp)\n",
    "    plt.xlabel('Word order information')\n",
    "    plt.ylabel('Word structure information')\n",
    "    plt.title(f'{lbl}')\n",
    "    for i, txt in enumerate(labelss):\n",
    "        ax.annotate(txt, (xs[i], ys[i]), rotation=45)\n",
    "    for i, txt in enumerate(labelsp):\n",
    "        ax.annotate(txt, (xp[i], yp[i]), rotation=45)"
   ]
  },
  {
   "cell_type": "markdown",
   "id": "60c77d3f-6bd0-4dab-92d3-c7b362f217b3",
   "metadata": {},
   "source": [
    "Now, the qualitative results make sense, but there is a suspicious vertical shift between experiments. And, more importantly, between 0s. First, let's try to reproduce this word-pasting experiment."
   ]
  },
  {
   "cell_type": "markdown",
   "id": "05f232b9-7d89-4a01-859b-21d748c11d6d",
   "metadata": {},
   "source": [
    "# Re-run word-pasting on this bible"
   ]
  },
  {
   "cell_type": "code",
   "execution_count": null,
   "id": "6fe9f42a-868c-4116-bfaa-3f57162652e3",
   "metadata": {},
   "outputs": [],
   "source": [
    "df_wp_repro = pd.read_csv(\"output/KoplenigEtAl/WordPasting/entropies_aso-x-bible_repro.txt.csv\")\n",
    "acts_wp_repro = df_wp_repro[df_wp_repro['book_id'] == 44]\n",
    "acts_wp_repro[acts_wp_repro['iter_id'] == 0]"
   ]
  },
  {
   "cell_type": "code",
   "execution_count": null,
   "id": "01fa4832-f4ca-499e-99ba-d42723283d11",
   "metadata": {},
   "outputs": [],
   "source": [
    "acts_wp[acts_wp['iter_id'] == 0]"
   ]
  },
  {
   "cell_type": "code",
   "execution_count": null,
   "id": "08116c9c-b85f-4740-9c74-0f09ad6b887f",
   "metadata": {},
   "outputs": [],
   "source": [
    "acts_ws_whitespacesplit[acts_ws_whitespacesplit['iter_id'] == 0]"
   ]
  },
  {
   "cell_type": "markdown",
   "id": "368727fa-26c1-4524-b008-6c4032ac0ea0",
   "metadata": {},
   "source": [
    "So, there was some minor change either in the code or in the resources after the previous file was created. Possible checks:\n",
    "\n",
    "1. What changed since the file was created in January 2023\n",
    "\n",
    "2. What is different between this branch and the word-pasting branch (i.e. first run it on that branch)\n",
    "\n",
    "3. Directly re-run all bibles, possibly with an updated parallel bible corpus"
   ]
  },
  {
   "cell_type": "markdown",
   "id": "cec781a2-eb94-40ae-ab62-8762073ad013",
   "metadata": {},
   "source": [
    "## Re-run on the old branch"
   ]
  },
  {
   "cell_type": "code",
   "execution_count": null,
   "id": "714741b5-f8ad-4f96-9550-96cdde8d9bee",
   "metadata": {},
   "outputs": [],
   "source": [
    "df_wp_oldbranch = pd.read_csv(\"output/KoplenigEtAl/WordPasting/entropies_aso-x-bible_oldbranch.txt.csv\")\n",
    "acts_wp_oldbranch = df_wp_oldbranch[df_wp_oldbranch['book_id'] == 44]\n",
    "acts_wp_oldbranch[acts_wp_oldbranch['iter_id'] == 0]"
   ]
  },
  {
   "cell_type": "markdown",
   "id": "fba3c1b7-cd17-49d8-9c50-ce7844e26ab8",
   "metadata": {},
   "source": [
    "So, it looks like something changed the \"masked\" entropy, only for the word-pasting case, in the new branch. Let's make sure this is not a problem when converting json"
   ]
  },
  {
   "cell_type": "code",
   "execution_count": null,
   "id": "167bf97d-9636-4dc9-8175-f7440ee7c00e",
   "metadata": {},
   "outputs": [],
   "source": [
    "with open('../WordOrderBibles_HPC/output/KoplenigEtAl/WordPasting/entropies_aso-x-bible.txt.json') as f:\n",
    "    json_current = json.loads(f.read())"
   ]
  },
  {
   "cell_type": "code",
   "execution_count": null,
   "id": "4fa07192-558d-4bf6-a734-6d263ad68555",
   "metadata": {},
   "outputs": [],
   "source": [
    "with open('output/KoplenigEtAl/WordPasting/entropies_aso-x-bible_repro.txt.json') as f:\n",
    "    json_repro = json.loads(f.read())"
   ]
  },
  {
   "cell_type": "code",
   "execution_count": null,
   "id": "af509ef3-9b67-4f7d-bbd0-d47afd40fea4",
   "metadata": {},
   "outputs": [],
   "source": [
    "with open('output/KoplenigEtAl/WordPasting/entropies_aso-x-bible_oldbranch.txt.json') as f:\n",
    "    json_oldbranch = json.loads(f.read())"
   ]
  },
  {
   "cell_type": "code",
   "execution_count": null,
   "id": "694b94f0-2026-4f5f-9218-6360b35c3702",
   "metadata": {},
   "outputs": [],
   "source": [
    "json_current['44']['0']"
   ]
  },
  {
   "cell_type": "code",
   "execution_count": null,
   "id": "949cef08-5494-4be3-bb46-d583ea97a73a",
   "metadata": {},
   "outputs": [],
   "source": [
    "json_repro['44']['0']"
   ]
  },
  {
   "cell_type": "code",
   "execution_count": null,
   "id": "7a2e3ad4-741c-49d1-b567-af225ff747f4",
   "metadata": {},
   "outputs": [],
   "source": [
    "json_oldbranch['44']['0']"
   ]
  },
  {
   "cell_type": "markdown",
   "id": "4f3cc6df-22d4-4e01-addc-0d335fa1f46a",
   "metadata": {},
   "source": [
    "So, if I use the old branch, I get the \"right\" value. If I run the code again, I get the \"right\" value. This means the switch to the new branch did not cause the discrepancy, which was already present in the old branch."
   ]
  },
  {
   "cell_type": "code",
   "execution_count": null,
   "id": "37c7ee7d-23a3-49a7-a815-dbf62344c3fa",
   "metadata": {},
   "outputs": [],
   "source": [
    "df_wp_repro['experiment'] = 'pasting'\n",
    "df_wp_oldbranch['experiment'] = 'pasting'\n",
    "df_repro = pd.concat([df_wp_repro, df_ws_whitespacesplit])\n",
    "df_oldbranch = pd.concat([df_wp_oldbranch, df_ws_whitespacesplit])\n",
    "lbl = 'Luke'\n",
    "for name, dataf in {'current': df, 'repro': df_repro, 'oldbranch': df_oldbranch}.items():\n",
    "    grp = dataf[dataf['book'] == 'Luke']\n",
    "    xs = grp[grp['experiment'] == 'splitting']['D_order'].tolist()\n",
    "    ys = grp[grp['experiment'] == 'splitting']['D_structure'].tolist()\n",
    "    xp = grp[grp['experiment'] == 'pasting']['D_order'].tolist()\n",
    "    yp = grp[grp['experiment'] == 'pasting']['D_structure'].tolist()\n",
    "    labelss = grp[grp['experiment'] == 'splitting']['iter_id'].tolist()\n",
    "    labelsp = grp[grp['experiment'] == 'pasting']['iter_id'].tolist()\n",
    "    fig, ax = plt.subplots()\n",
    "    ax.scatter(xs, ys)\n",
    "    ax.scatter(xp, yp)\n",
    "    plt.xlabel('Word order information')\n",
    "    plt.ylabel('Word structure information')\n",
    "    plt.title(f'{lbl} ({name})')\n",
    "    for i, txt in enumerate(labelss):\n",
    "        ax.annotate(txt, (xs[i], ys[i]), rotation=45)\n",
    "    for i, txt in enumerate(labelsp):\n",
    "        ax.annotate(txt, (xp[i], yp[i]), rotation=45)"
   ]
  },
  {
   "cell_type": "markdown",
   "id": "0657476c-a989-4e0e-b7e8-25296a4cbbd3",
   "metadata": {},
   "source": [
    "Clearly, there was something we changed after having generated the plot. What were the last changes in the old branch? It looks like it was something in the method compression_entropy.py::create_random_word. This would be consistent with it changing something in the \"masked\" entropy. Now I'm re-running with the last commit of 2022."
   ]
  },
  {
   "cell_type": "code",
   "execution_count": null,
   "id": "dbfdef28-dfa8-433b-9931-78c0bf10f9f5",
   "metadata": {},
   "outputs": [],
   "source": [
    "with open('output/KoplenigEtAl/WordPasting/entropies_aso-x-bible_oldcommit.txt.json') as f:\n",
    "    json_oldcommit = json.loads(f.read())"
   ]
  },
  {
   "cell_type": "code",
   "execution_count": null,
   "id": "a117d2dd-1e41-4be9-bb83-20bbd8645417",
   "metadata": {},
   "outputs": [],
   "source": [
    "json_current['44']['0']"
   ]
  },
  {
   "cell_type": "code",
   "execution_count": null,
   "id": "b7abd197-644a-41b9-b6db-6e4206e1ec3e",
   "metadata": {},
   "outputs": [],
   "source": [
    "json_oldcommit['44']['0']"
   ]
  },
  {
   "cell_type": "markdown",
   "id": "4794d3eb-217c-4c83-beef-87c9d2f20b03",
   "metadata": {},
   "source": [
    "This is it. It's one of the commits from December 2022 and the head of the word-pasting branch."
   ]
  },
  {
   "cell_type": "markdown",
   "id": "97ead1c3-df12-4a28-a1fe-0e6cf6c9b139",
   "metadata": {},
   "source": [
    "# Final check\n",
    "\n",
    "Now let's pick another bible, at random, and run word-pasting and word-splitting using the current code, and check that the transition is correct for all 6 books."
   ]
  },
  {
   "cell_type": "code",
   "execution_count": null,
   "id": "68a6263e-a3ac-4354-9ae2-76560925bd75",
   "metadata": {},
   "outputs": [],
   "source": [
    "df_wp_check = pd.read_csv(\"output/KoplenigEtAl/WordPasting/entropies_deu-x-bible-greber_check.txt.csv\")\n",
    "df_ws_check = pd.read_csv(\"output/KoplenigEtAl/WordSplitting/entropies_deu-x-bible-greber_check.txt.csv\")"
   ]
  },
  {
   "cell_type": "code",
   "execution_count": null,
   "id": "2b8f8b2c-2ed1-4980-9c46-30f005946af7",
   "metadata": {},
   "outputs": [],
   "source": [
    "df_wp_check['experiment'] = 'pasting'\n",
    "df_ws_check['experiment'] = 'splitting'\n",
    "dataf = pd.concat([df_wp_check, df_ws_check])\n",
    "lbl = 'John'\n",
    "name = 'check'\n",
    "grp = dataf[dataf['book'] == 'Luke']\n",
    "xs = grp[grp['experiment'] == 'splitting']['D_order'].tolist()\n",
    "ys = grp[grp['experiment'] == 'splitting']['D_structure'].tolist()\n",
    "xp = grp[grp['experiment'] == 'pasting']['D_order'].tolist()\n",
    "yp = grp[grp['experiment'] == 'pasting']['D_structure'].tolist()\n",
    "labelss = grp[grp['experiment'] == 'splitting']['iter_id'].tolist()\n",
    "labelsp = grp[grp['experiment'] == 'pasting']['iter_id'].tolist()\n",
    "fig, ax = plt.subplots()\n",
    "ax.scatter(xs, ys)\n",
    "ax.scatter(xp, yp)\n",
    "plt.xlabel('Word order information')\n",
    "plt.ylabel('Word structure information')\n",
    "plt.title(f'{lbl} ({name})')\n",
    "for i, txt in enumerate(labelss):\n",
    "    ax.annotate(txt, (xs[i], ys[i]), rotation=45)\n",
    "for i, txt in enumerate(labelsp):\n",
    "    ax.annotate(txt, (xp[i], yp[i]), rotation=45)"
   ]
  },
  {
   "cell_type": "markdown",
   "id": "09c55222-ce29-4f3b-8c13-56ac743b0710",
   "metadata": {},
   "source": [
    "This makes sense, and is exactly as expected."
   ]
  },
  {
   "cell_type": "code",
   "execution_count": null,
   "id": "ac4ceec9-7fde-4478-a4d3-6f92ec7f8067",
   "metadata": {},
   "outputs": [],
   "source": []
  }
 ],
 "metadata": {
  "kernelspec": {
   "display_name": "Python 3 (ipykernel)",
   "language": "python",
   "name": "python3"
  },
  "language_info": {
   "codemirror_mode": {
    "name": "ipython",
    "version": 3
   },
   "file_extension": ".py",
   "mimetype": "text/x-python",
   "name": "python",
   "nbconvert_exporter": "python",
   "pygments_lexer": "ipython3",
   "version": "3.12.0"
  }
 },
 "nbformat": 4,
 "nbformat_minor": 5
}
