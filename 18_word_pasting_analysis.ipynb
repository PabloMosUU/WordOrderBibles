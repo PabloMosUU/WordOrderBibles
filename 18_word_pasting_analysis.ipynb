{
 "cells": [
  {
   "cell_type": "code",
   "execution_count": null,
   "metadata": {},
   "outputs": [],
   "source": [
    "import json\n",
    "import pandas as pd\n",
    "import matplotlib.pyplot as plt\n",
    "import compression_entropy as ce"
   ]
  },
  {
   "cell_type": "code",
   "execution_count": null,
   "metadata": {},
   "outputs": [],
   "source": [
    "FILE_PATH = 'output/KoplenigEtAl/WordPasting/entropies_backup.json'"
   ]
  },
  {
   "cell_type": "code",
   "execution_count": null,
   "metadata": {},
   "outputs": [],
   "source": [
    "with open(FILE_PATH, 'r') as f:\n",
    "    entropies = json.loads(f.read())"
   ]
  },
  {
   "cell_type": "code",
   "execution_count": null,
   "metadata": {},
   "outputs": [],
   "source": [
    "row_list = []\n",
    "for filename, book_entropies in entropies.items():\n",
    "    for book_id, version_entropies in book_entropies.items():\n",
    "        for n_iter, level_entropies in version_entropies[book_id].items():\n",
    "            row = level_entropies\n",
    "            row['filename'] = filename\n",
    "            row['book_id'] = book_id\n",
    "            row['iter_id'] = n_iter\n",
    "            row_list.append(row)"
   ]
  },
  {
   "cell_type": "code",
   "execution_count": null,
   "metadata": {},
   "outputs": [],
   "source": [
    "df = pd.DataFrame(row_list)"
   ]
  },
  {
   "cell_type": "code",
   "execution_count": null,
   "metadata": {},
   "outputs": [],
   "source": [
    "df['language'] = df['filename'].apply(lambda x: x.split('/')[-1].split('-')[0])\n",
    "df['description'] = df['filename'].apply(lambda x: '-'.join(x.split('/')[-1].split('.')[0].split('-')[3:]))"
   ]
  },
  {
   "cell_type": "code",
   "execution_count": null,
   "metadata": {},
   "outputs": [],
   "source": [
    "df['D_structure'] = df.apply(lambda row: row['masked'] - row['orig'], 1)\n",
    "df['D_order'] = df.apply(lambda row: row['shuffled'] - row['orig'], 1)"
   ]
  },
  {
   "cell_type": "code",
   "execution_count": null,
   "metadata": {},
   "outputs": [],
   "source": [
    "book_id_name = {'40': 'Matthew', \n",
    "                '41': 'Mark', \n",
    "                '42': 'Luke', \n",
    "                '43': 'John', \n",
    "                '44': 'Acts', \n",
    "                '66': 'Revelation'}\n",
    "df['book'] = df['book_id'].map(book_id_name)"
   ]
  },
  {
   "cell_type": "code",
   "execution_count": null,
   "metadata": {},
   "outputs": [],
   "source": [
    "df['bible_id'] = df['filename'].apply(lambda x: '.'.join(x.split('/')[-1].split('.')[:-1]))"
   ]
  },
  {
   "cell_type": "code",
   "execution_count": null,
   "metadata": {},
   "outputs": [],
   "source": [
    "for bible_id in df['bible_id'].unique():\n",
    "    bible_df = df[df['bible_id'] == bible_id]\n",
    "    for book_name in bible_df['book'].unique():\n",
    "        book_df = bible_df[bible_df['book'] == book_name]\n",
    "        assert len(book_df) == book_df['iter_id'].nunique()\n",
    "        x = book_df['D_order'].tolist()\n",
    "        y = book_df['D_structure'].tolist()\n",
    "        labels = book_df['iter_id'].tolist()\n",
    "        fig, ax = plt.subplots()\n",
    "        ax.scatter(x, y)\n",
    "        plt.xlabel('Word order information')\n",
    "        plt.ylabel('Word structure information')\n",
    "        plt.title(f'{book_name}_{bible_id.split(\"-\")[0]}')\n",
    "        for i, txt in enumerate(labels):\n",
    "            ax.annotate(txt, (x[i], y[i]), rotation=45)"
   ]
  },
  {
   "cell_type": "code",
   "execution_count": null,
   "metadata": {},
   "outputs": [],
   "source": [
    "df[(df['language'] == 'eng') & (df['book'] == 'Luke') & (df['iter_id'] == '0')]"
   ]
  },
  {
   "cell_type": "markdown",
   "metadata": {},
   "source": [
    "There are two important findings:\n",
    "\n",
    "1. there is very little variation at this level\n",
    "\n",
    "2. the result I got is different from the one I had previously. Is it because of natural variations, or a mistake?\n",
    "\n",
    "To test the second question, we need to compute the same quantity a few times, with different shufflings."
   ]
  },
  {
   "cell_type": "code",
   "execution_count": null,
   "metadata": {},
   "outputs": [],
   "source": [
    "eng_luke_entropies = ce.run('/home/pablo/Documents/GitHubRepos/paralleltext/bibles/corpus/eng-x-bible-world.txt', True, True, [42], True)"
   ]
  },
  {
   "cell_type": "code",
   "execution_count": null,
   "metadata": {},
   "outputs": [],
   "source": [
    "print(eng_luke_entropies)"
   ]
  },
  {
   "cell_type": "markdown",
   "metadata": {},
   "source": [
    "Repeat the calculation:"
   ]
  },
  {
   "cell_type": "code",
   "execution_count": null,
   "metadata": {},
   "outputs": [],
   "source": [
    "eng_luke_entropies = ce.run('/home/pablo/Documents/GitHubRepos/paralleltext/bibles/corpus/eng-x-bible-world.txt', True, True, [42], True)\n",
    "print(eng_luke_entropies)"
   ]
  },
  {
   "cell_type": "markdown",
   "metadata": {},
   "source": [
    "The variation is almost negligible. The result is very close to the one obtained in notebook 10, even though the result here is without truncation in the second case."
   ]
  },
  {
   "cell_type": "code",
   "execution_count": null,
   "metadata": {},
   "outputs": [],
   "source": [
    "filename = '/home/pablo/Documents/GitHubRepos/paralleltext/bibles/corpus/eng-x-bible-world.txt'\n",
    "for i in (False, True):\n",
    "    for j in (False, True):\n",
    "        for k in (False, True):\n",
    "            print(ce.run(filename, i, j, [42], k))"
   ]
  },
  {
   "cell_type": "markdown",
   "metadata": {},
   "source": [
    "If we use the run_word_pasting method with n_iter=1, we should get the same result."
   ]
  },
  {
   "cell_type": "code",
   "execution_count": null,
   "metadata": {},
   "outputs": [],
   "source": [
    "print(ce.run_word_pasting(filename,\n",
    "                     lowercase=True,\n",
    "                     remove_mismatcher_files=True,\n",
    "                     chosen_books=[42],\n",
    "                     truncate_books=False,\n",
    "                     n_iter=1,\n",
    "                     output_file_path='/home/pablo/ownCloud/WordOrderBibles/GitHub/output/KoplenigEtAl/WordPasting/'))"
   ]
  },
  {
   "cell_type": "markdown",
   "metadata": {},
   "source": [
    "This is again the same result. So I must have made a mistake before. I will run the code again, using the Python command line."
   ]
  },
  {
   "cell_type": "code",
   "execution_count": null,
   "metadata": {},
   "outputs": [],
   "source": []
  }
 ],
 "metadata": {
  "kernelspec": {
   "display_name": "Python 3",
   "language": "python",
   "name": "python3"
  },
  "language_info": {
   "codemirror_mode": {
    "name": "ipython",
    "version": 3
   },
   "file_extension": ".py",
   "mimetype": "text/x-python",
   "name": "python",
   "nbconvert_exporter": "python",
   "pygments_lexer": "ipython3",
   "version": "3.8.12"
  }
 },
 "nbformat": 4,
 "nbformat_minor": 4
}
