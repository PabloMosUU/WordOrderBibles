{
 "cells": [
  {
   "cell_type": "code",
   "execution_count": null,
   "metadata": {},
   "outputs": [],
   "source": [
    "import json\n",
    "import pandas as pd\n",
    "import matplotlib.pyplot as plt\n",
    "import compression_entropy as ce"
   ]
  },
  {
   "cell_type": "code",
   "execution_count": null,
   "metadata": {},
   "outputs": [],
   "source": [
    "old_file = 'output/KoplenigEtAl/WordPasting/entropies_1000.json'\n",
    "new_file = 'output/KoplenigEtAl/WordPasting/entropies_10000.json'"
   ]
  },
  {
   "cell_type": "code",
   "execution_count": null,
   "metadata": {},
   "outputs": [],
   "source": [
    "files = {'old': old_file, 'new': new_file}"
   ]
  },
  {
   "cell_type": "code",
   "execution_count": null,
   "metadata": {},
   "outputs": [],
   "source": [
    "entropies = {}\n",
    "for version, filename in files.items():\n",
    "    with open(filename, 'r') as f:\n",
    "        entropies[version] = json.loads(f.read())"
   ]
  },
  {
   "cell_type": "code",
   "execution_count": null,
   "metadata": {},
   "outputs": [],
   "source": [
    "print(len(entropies['old']['eng-x-bible-world.txt']['40']['40'].keys()))"
   ]
  },
  {
   "cell_type": "code",
   "execution_count": null,
   "metadata": {},
   "outputs": [],
   "source": [
    "print(len(entropies['new']['eng-x-bible-world.txt']['40'].keys()))"
   ]
  },
  {
   "cell_type": "code",
   "execution_count": null,
   "metadata": {},
   "outputs": [],
   "source": [
    "entropies['old']['eng-x-bible-world.txt']['40']['40']['0']"
   ]
  },
  {
   "cell_type": "code",
   "execution_count": null,
   "metadata": {},
   "outputs": [],
   "source": [
    "entropies['old']['eng-x-bible-world.txt']['40']['40']['1000']"
   ]
  },
  {
   "cell_type": "code",
   "execution_count": null,
   "metadata": {},
   "outputs": [],
   "source": [
    "entropies['new']['eng-x-bible-world.txt']['40']['0']"
   ]
  },
  {
   "cell_type": "code",
   "execution_count": null,
   "metadata": {},
   "outputs": [],
   "source": [
    "entropies['new']['eng-x-bible-world.txt']['40']['1000']"
   ]
  },
  {
   "cell_type": "markdown",
   "metadata": {},
   "source": [
    "The 1000 values are very similar. But the 0 values are extremely different! This does not make sense, so I should run this in debug mode to see if I can understand what is going on."
   ]
  },
  {
   "cell_type": "markdown",
   "metadata": {},
   "source": [
    "The difference is in the \"shuffled\" and \"masked\" versions."
   ]
  },
  {
   "cell_type": "markdown",
   "metadata": {},
   "source": [
    "First of all, which of these matches what was plotted in my reproduction of Koplenig et al?"
   ]
  },
  {
   "cell_type": "code",
   "execution_count": null,
   "metadata": {},
   "outputs": [],
   "source": [
    "word_order_information = {'new': entropies['new']['eng-x-bible-world.txt']['40']['0']['shuffled'] - entropies['new']['eng-x-bible-world.txt']['40']['0']['orig'],\n",
    "                         'old': entropies['old']['eng-x-bible-world.txt']['40']['40']['0']['shuffled'] - entropies['old']['eng-x-bible-world.txt']['40']['40']['0']['orig']}\n",
    "word_structure_information = {'new': entropies['new']['eng-x-bible-world.txt']['40']['0']['masked'] - entropies['new']['eng-x-bible-world.txt']['40']['0']['orig'],\n",
    "                         'old': entropies['old']['eng-x-bible-world.txt']['40']['40']['0']['masked'] - entropies['old']['eng-x-bible-world.txt']['40']['40']['0']['orig']}"
   ]
  },
  {
   "cell_type": "code",
   "execution_count": null,
   "metadata": {},
   "outputs": [],
   "source": [
    "word_order_information"
   ]
  },
  {
   "cell_type": "code",
   "execution_count": null,
   "metadata": {},
   "outputs": [],
   "source": [
    "word_structure_information"
   ]
  },
  {
   "cell_type": "markdown",
   "metadata": {},
   "source": [
    "\"new\" is a bit closer to my reproduction of Koplenig et al. What about for the other language?"
   ]
  },
  {
   "cell_type": "code",
   "execution_count": null,
   "metadata": {},
   "outputs": [],
   "source": [
    "word_order_information_xuo = {'new': entropies['new']['xuo-x-bible.txt']['40']['0']['shuffled'] - entropies['new']['xuo-x-bible.txt']['40']['0']['orig'],\n",
    "                         'old': entropies['old']['xuo-x-bible.txt']['40']['40']['0']['shuffled'] - entropies['old']['xuo-x-bible.txt']['40']['40']['0']['orig']}\n",
    "word_structure_information_xuo = {'new': entropies['new']['xuo-x-bible.txt']['40']['0']['masked'] - entropies['new']['xuo-x-bible.txt']['40']['0']['orig'],\n",
    "                         'old': entropies['old']['xuo-x-bible.txt']['40']['40']['0']['masked'] - entropies['old']['xuo-x-bible.txt']['40']['40']['0']['orig']}"
   ]
  },
  {
   "cell_type": "code",
   "execution_count": null,
   "metadata": {},
   "outputs": [],
   "source": [
    "print(word_order_information_xuo, word_structure_information_xuo)"
   ]
  },
  {
   "cell_type": "markdown",
   "metadata": {},
   "source": [
    "Again, \"new\" is closer to our reproduction of Koplenig et al. What mistake did I make in the original implementation?"
   ]
  },
  {
   "cell_type": "markdown",
   "metadata": {},
   "source": [
    "I'm not sure, but I'm confident the new version is doing what it's supposed to, so I'm happy with it."
   ]
  },
  {
   "cell_type": "code",
   "execution_count": null,
   "metadata": {},
   "outputs": [],
   "source": []
  }
 ],
 "metadata": {
  "kernelspec": {
   "display_name": "Python 3",
   "language": "python",
   "name": "python3"
  },
  "language_info": {
   "codemirror_mode": {
    "name": "ipython",
    "version": 3
   },
   "file_extension": ".py",
   "mimetype": "text/x-python",
   "name": "python",
   "nbconvert_exporter": "python",
   "pygments_lexer": "ipython3",
   "version": "3.8.12"
  }
 },
 "nbformat": 4,
 "nbformat_minor": 4
}
