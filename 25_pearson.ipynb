{
 "cells": [
  {
   "cell_type": "code",
   "execution_count": 10,
   "id": "390867a8",
   "metadata": {},
   "outputs": [],
   "source": [
    "import numpy as np\n",
    "from sklearn.feature_selection import r_regression\n",
    "import pandas as pd\n",
    "import os\n",
    "import matplotlib.pyplot as plt"
   ]
  },
  {
   "cell_type": "code",
   "execution_count": 2,
   "id": "0a4565ec",
   "metadata": {},
   "outputs": [],
   "source": [
    "def get_pearson(df: pd.DataFrame, experiment: str, book: str) -> np.ndarray:\n",
    "    if experiment == 'pasting':\n",
    "        y_name = 'iter_id'\n",
    "    elif experiment == 'splitting':\n",
    "        y_name = 'n_types'\n",
    "    else:\n",
    "        raise ValueError('Unknown experiment type', experiment)\n",
    "    X = df[df['book'] == book][['D_order', 'D_structure']]\n",
    "    y = df[df['book'] == book][y_name]\n",
    "    assert len(y) == len(set(y.tolist()))\n",
    "    return r_regression(X, y)"
   ]
  },
  {
   "cell_type": "code",
   "execution_count": 3,
   "id": "7a3163c3",
   "metadata": {},
   "outputs": [
    {
     "name": "stdout",
     "output_type": "stream",
     "text": [
      "1999\n"
     ]
    }
   ],
   "source": [
    "pasting_dir = '/home/pablo/ownCloud/WordOrderBibles/GitHub/output/KoplenigEtAl/WordPasting/HPC/'\n",
    "files = os.listdir(pasting_dir)\n",
    "bible_files = [file for file in files if file.startswith('entropies_') and file.endswith('.csv')]\n",
    "print(len(bible_files))"
   ]
  },
  {
   "cell_type": "code",
   "execution_count": 5,
   "id": "c12ace84",
   "metadata": {},
   "outputs": [
    {
     "name": "stderr",
     "output_type": "stream",
     "text": [
      "/home/pablo/anaconda3/envs/word_order_bibles/lib/python3.8/site-packages/sklearn/feature_selection/_univariate_selection.py:289: RuntimeWarning: invalid value encountered in true_divide\n",
      "  correlation_coefficient /= X_norms\n",
      "/home/pablo/anaconda3/envs/word_order_bibles/lib/python3.8/site-packages/sklearn/feature_selection/_univariate_selection.py:289: RuntimeWarning: invalid value encountered in true_divide\n",
      "  correlation_coefficient /= X_norms\n",
      "/home/pablo/anaconda3/envs/word_order_bibles/lib/python3.8/site-packages/sklearn/feature_selection/_univariate_selection.py:289: RuntimeWarning: invalid value encountered in true_divide\n",
      "  correlation_coefficient /= X_norms\n",
      "/home/pablo/anaconda3/envs/word_order_bibles/lib/python3.8/site-packages/sklearn/feature_selection/_univariate_selection.py:289: RuntimeWarning: invalid value encountered in true_divide\n",
      "  correlation_coefficient /= X_norms\n",
      "/home/pablo/anaconda3/envs/word_order_bibles/lib/python3.8/site-packages/sklearn/feature_selection/_univariate_selection.py:289: RuntimeWarning: invalid value encountered in true_divide\n",
      "  correlation_coefficient /= X_norms\n",
      "/home/pablo/anaconda3/envs/word_order_bibles/lib/python3.8/site-packages/sklearn/feature_selection/_univariate_selection.py:289: RuntimeWarning: invalid value encountered in true_divide\n",
      "  correlation_coefficient /= X_norms\n",
      "/home/pablo/anaconda3/envs/word_order_bibles/lib/python3.8/site-packages/sklearn/feature_selection/_univariate_selection.py:289: RuntimeWarning: invalid value encountered in true_divide\n",
      "  correlation_coefficient /= X_norms\n",
      "/home/pablo/anaconda3/envs/word_order_bibles/lib/python3.8/site-packages/sklearn/feature_selection/_univariate_selection.py:289: RuntimeWarning: invalid value encountered in true_divide\n",
      "  correlation_coefficient /= X_norms\n",
      "/home/pablo/anaconda3/envs/word_order_bibles/lib/python3.8/site-packages/sklearn/feature_selection/_univariate_selection.py:289: RuntimeWarning: invalid value encountered in true_divide\n",
      "  correlation_coefficient /= X_norms\n",
      "/home/pablo/anaconda3/envs/word_order_bibles/lib/python3.8/site-packages/sklearn/feature_selection/_univariate_selection.py:289: RuntimeWarning: invalid value encountered in true_divide\n",
      "  correlation_coefficient /= X_norms\n",
      "/home/pablo/anaconda3/envs/word_order_bibles/lib/python3.8/site-packages/sklearn/feature_selection/_univariate_selection.py:289: RuntimeWarning: invalid value encountered in true_divide\n",
      "  correlation_coefficient /= X_norms\n",
      "/home/pablo/anaconda3/envs/word_order_bibles/lib/python3.8/site-packages/sklearn/feature_selection/_univariate_selection.py:289: RuntimeWarning: invalid value encountered in true_divide\n",
      "  correlation_coefficient /= X_norms\n",
      "/home/pablo/anaconda3/envs/word_order_bibles/lib/python3.8/site-packages/sklearn/feature_selection/_univariate_selection.py:289: RuntimeWarning: invalid value encountered in true_divide\n",
      "  correlation_coefficient /= X_norms\n",
      "/home/pablo/anaconda3/envs/word_order_bibles/lib/python3.8/site-packages/sklearn/feature_selection/_univariate_selection.py:289: RuntimeWarning: invalid value encountered in true_divide\n",
      "  correlation_coefficient /= X_norms\n",
      "/home/pablo/anaconda3/envs/word_order_bibles/lib/python3.8/site-packages/sklearn/feature_selection/_univariate_selection.py:289: RuntimeWarning: invalid value encountered in true_divide\n",
      "  correlation_coefficient /= X_norms\n",
      "/home/pablo/anaconda3/envs/word_order_bibles/lib/python3.8/site-packages/sklearn/feature_selection/_univariate_selection.py:289: RuntimeWarning: invalid value encountered in true_divide\n",
      "  correlation_coefficient /= X_norms\n"
     ]
    }
   ],
   "source": [
    "pearsons = []\n",
    "warnings = []\n",
    "empties = []\n",
    "for file in bible_files:\n",
    "    df = pd.read_csv(pasting_dir + file)\n",
    "    if len(df) == 0:\n",
    "        empties.append(file)\n",
    "        continue\n",
    "    books = df['book'].unique()\n",
    "    for book in books:\n",
    "        try:\n",
    "            pearsons.append((get_pearson(df, 'pasting', book), file, book))\n",
    "        except ValueError as e:\n",
    "            warnings.append((file, e, book))"
   ]
  },
  {
   "cell_type": "code",
   "execution_count": 6,
   "id": "bac172eb",
   "metadata": {},
   "outputs": [
    {
     "name": "stdout",
     "output_type": "stream",
     "text": [
      "11354 0 38\n"
     ]
    }
   ],
   "source": [
    "print(len(pearsons), len(warnings), len(empties))"
   ]
  },
  {
   "cell_type": "code",
   "execution_count": 9,
   "id": "2ddce988",
   "metadata": {},
   "outputs": [
    {
     "data": {
      "text/plain": [
       "(array([-0.83545897,  0.98715483]), 'entropies_ayo-x-bible.txt.csv', 'Matthew')"
      ]
     },
     "execution_count": 9,
     "metadata": {},
     "output_type": "execute_result"
    }
   ],
   "source": [
    "pearsons[0]"
   ]
  },
  {
   "cell_type": "code",
   "execution_count": 14,
   "id": "0cf9aa23",
   "metadata": {},
   "outputs": [
    {
     "data": {
      "image/png": "[encoded data removed]",
      "text/plain": [
       "<Figure size 432x288 with 1 Axes>"
      ]
     },
     "metadata": {
      "needs_background": "light"
     },
     "output_type": "display_data"
    }
   ],
   "source": [
    "plt.hist([p[0][0] for p in pearsons])\n",
    "plt.xlabel('Pearson(D_order, merged_pairs)')\n",
    "plt.ylabel('Bible translation books')\n",
    "plt.show()"
   ]
  },
  {
   "cell_type": "code",
   "execution_count": 15,
   "id": "5ae258cc",
   "metadata": {},
   "outputs": [
    {
     "data": {
      "image/png": "[encoded data removed]",
      "text/plain": [
       "<Figure size 432x288 with 1 Axes>"
      ]
     },
     "metadata": {
      "needs_background": "light"
     },
     "output_type": "display_data"
    }
   ],
   "source": [
    "plt.hist([p[0][1] for p in pearsons])\n",
    "plt.xlabel('Pearson(D_structure, merged_pairs)')\n",
    "plt.ylabel('Bible translation books')\n",
    "plt.show()"
   ]
  },
  {
   "cell_type": "code",
   "execution_count": null,
   "id": "67fe5c63",
   "metadata": {},
   "outputs": [],
   "source": []
  }
 ],
 "metadata": {
  "kernelspec": {
   "display_name": "Python 3 (ipykernel)",
   "language": "python",
   "name": "python3"
  },
  "language_info": {
   "codemirror_mode": {
    "name": "ipython",
    "version": 3
   },
   "file_extension": ".py",
   "mimetype": "text/x-python",
   "name": "python",
   "nbconvert_exporter": "python",
   "pygments_lexer": "ipython3",
   "version": "3.8.12"
  }
 },
 "nbformat": 4,
 "nbformat_minor": 5
}
