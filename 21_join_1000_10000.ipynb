{
 "cells": [
  {
   "cell_type": "code",
   "execution_count": null,
   "metadata": {},
   "outputs": [],
   "source": [
    "import json\n",
    "import pandas as pd\n",
    "import matplotlib.pyplot as plt\n",
    "import compression_entropy as ce"
   ]
  },
  {
   "cell_type": "code",
   "execution_count": null,
   "metadata": {},
   "outputs": [],
   "source": [
    "files = ['entropies_10000.json', 'entropies_max1000_step100.json']"
   ]
  },
  {
   "cell_type": "code",
   "execution_count": null,
   "metadata": {},
   "outputs": [],
   "source": [
    "path = '/home/pablo/ownCloud/WordOrderBibles/GitHub/output/KoplenigEtAl/WordPasting/'"
   ]
  },
  {
   "cell_type": "code",
   "execution_count": null,
   "metadata": {},
   "outputs": [],
   "source": [
    "files = [path + file for file in files]"
   ]
  },
  {
   "cell_type": "code",
   "execution_count": null,
   "metadata": {},
   "outputs": [],
   "source": [
    "jsons = []\n",
    "for file in files:\n",
    "    with open(file) as f:\n",
    "        jsons.append(json.loads(f.read()))"
   ]
  },
  {
   "cell_type": "code",
   "execution_count": null,
   "metadata": {},
   "outputs": [],
   "source": [
    "rows = []\n",
    "for bible_entropies in jsons:\n",
    "    row_list = []\n",
    "    for filename, book_entropies in bible_entropies.items():\n",
    "        for book_id, version_entropies in book_entropies.items():\n",
    "            for n_iter, level_entropies in version_entropies.items():\n",
    "                row = level_entropies\n",
    "                row['filename'] = filename\n",
    "                row['book_id'] = book_id\n",
    "                row['iter_id'] = n_iter\n",
    "                row_list.append(row)\n",
    "    rows.append(row_list)"
   ]
  },
  {
   "cell_type": "code",
   "execution_count": null,
   "metadata": {},
   "outputs": [],
   "source": [
    "dfs = [pd.DataFrame(row_list) for row_list in rows]"
   ]
  },
  {
   "cell_type": "code",
   "execution_count": null,
   "metadata": {},
   "outputs": [],
   "source": [
    "df = pd.concat(dfs)"
   ]
  },
  {
   "cell_type": "code",
   "execution_count": null,
   "metadata": {},
   "outputs": [],
   "source": [
    "def rel_error(a):\n",
    "    assert len(a) == 2\n",
    "    return abs(a[0] - a[1]) / (a[0] + a[1])"
   ]
  },
  {
   "cell_type": "code",
   "execution_count": null,
   "metadata": {},
   "outputs": [],
   "source": [
    "for filename in df.filename.unique():\n",
    "    for book_id in df.book_id.unique():\n",
    "        for iter_id in df.iter_id.unique():\n",
    "            selection = df[df.apply(lambda row: row['filename'] == filename and \\\n",
    "                                    row['book_id'] == book_id and \\\n",
    "                                    row['iter_id'] == iter_id, \n",
    "                                    1)]\n",
    "            if len(selection) != 1:\n",
    "                assert len(selection) == 2 and iter_id in ('0', '1000')\n",
    "                for col in ('orig', 'shuffled', 'masked'):\n",
    "                    assert rel_error(selection['orig'].tolist()) * 100 < 0.5"
   ]
  },
  {
   "cell_type": "code",
   "execution_count": null,
   "metadata": {},
   "outputs": [],
   "source": [
    "df['bible_id'] = df['filename'].apply(lambda x: '.'.join(x.split('/')[-1].split('.')[:-1]))"
   ]
  },
  {
   "cell_type": "code",
   "execution_count": null,
   "metadata": {},
   "outputs": [],
   "source": [
    "book_id_name = {'40': 'Matthew', \n",
    "                '41': 'Mark', \n",
    "                '42': 'Luke', \n",
    "                '43': 'John', \n",
    "                '44': 'Acts', \n",
    "                '66': 'Revelation'}\n",
    "df['book'] = df['book_id'].map(book_id_name)"
   ]
  },
  {
   "cell_type": "code",
   "execution_count": null,
   "metadata": {},
   "outputs": [],
   "source": [
    "df['D_structure'] = df.apply(lambda row: row['masked'] - row['orig'], 1)\n",
    "df['D_order'] = df.apply(lambda row: row['shuffled'] - row['orig'], 1)"
   ]
  },
  {
   "cell_type": "code",
   "execution_count": null,
   "metadata": {},
   "outputs": [],
   "source": [
    "for bible_id in df['bible_id'].unique():\n",
    "    bible_df = df[df['bible_id'] == bible_id]\n",
    "    for book_name in bible_df['book'].unique():\n",
    "        book_df = bible_df[bible_df['book'] == book_name]\n",
    "        x = book_df['D_order'].tolist()\n",
    "        y = book_df['D_structure'].tolist()\n",
    "        labels = book_df['iter_id'].tolist()\n",
    "        fig, ax = plt.subplots()\n",
    "        ax.scatter(x, y)\n",
    "        plt.xlabel('Word order information')\n",
    "        plt.ylabel('Word structure information')\n",
    "        plt.title(f'{book_name}_{bible_id.split(\"-\")[0]}')\n",
    "        for i, txt in enumerate(labels):\n",
    "            ax.annotate(txt, (x[i], y[i]), rotation=45)"
   ]
  },
  {
   "cell_type": "code",
   "execution_count": null,
   "metadata": {},
   "outputs": [],
   "source": []
  }
 ],
 "metadata": {
  "kernelspec": {
   "display_name": "Python 3",
   "language": "python",
   "name": "python3"
  },
  "language_info": {
   "codemirror_mode": {
    "name": "ipython",
    "version": 3
   },
   "file_extension": ".py",
   "mimetype": "text/x-python",
   "name": "python",
   "nbconvert_exporter": "python",
   "pygments_lexer": "ipython3",
   "version": "3.8.12"
  }
 },
 "nbformat": 4,
 "nbformat_minor": 4
}
