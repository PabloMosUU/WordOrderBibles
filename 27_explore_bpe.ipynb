{
 "cells": [
  {
   "cell_type": "code",
   "execution_count": null,
   "id": "17d1e1f1-28a2-40a0-bfd9-261c0a9d4ec4",
   "metadata": {},
   "outputs": [],
   "source": [
    "from transformers import GPT2Tokenizer\n",
    "\n",
    "tokenizer = GPT2Tokenizer.from_pretrained(\"openai-community/gpt2\", add_prefix_space=True)\n",
    "tokenizer(\"Hello world\")[\"input_ids\"]"
   ]
  },
  {
   "cell_type": "code",
   "execution_count": null,
   "id": "ee7b4e79-a410-421b-8bfa-e95543677848",
   "metadata": {},
   "outputs": [],
   "source": [
    "tokenizer(\"Hello world\")"
   ]
  },
  {
   "cell_type": "code",
   "execution_count": null,
   "id": "c814336e-df8c-4808-8afc-9674f711909f",
   "metadata": {},
   "outputs": [],
   "source": [
    "tokenizer(\"Hello worldly beings\")"
   ]
  },
  {
   "cell_type": "code",
   "execution_count": null,
   "id": "7948a13b-3ff0-4bf6-87ba-320aa1ae2d13",
   "metadata": {},
   "outputs": [],
   "source": [
    "tokenizer(\"Hello otherworldly beings\")"
   ]
  },
  {
   "cell_type": "code",
   "execution_count": null,
   "id": "079e5eed-af01-48e7-96e7-ba9a5f447219",
   "metadata": {},
   "outputs": [],
   "source": [
    "type(tokenizer)"
   ]
  },
  {
   "cell_type": "code",
   "execution_count": null,
   "id": "d92928d5-2caa-4acf-9131-97eedc871a18",
   "metadata": {},
   "outputs": [],
   "source": [
    "tokenizer.decode([15496, 995])"
   ]
  },
  {
   "cell_type": "code",
   "execution_count": null,
   "id": "e003a83d-9987-4c5c-aaf6-39b109223368",
   "metadata": {},
   "outputs": [],
   "source": [
    "for text in ('Hello world', 'Hello worldly beings', 'Hello otherworldly beings'):\n",
    "    print(tokenizer.decode(tokenizer(text)['input_ids']))"
   ]
  },
  {
   "cell_type": "code",
   "execution_count": null,
   "id": "140a50ab-98b6-4632-9382-6860b676e2af",
   "metadata": {},
   "outputs": [],
   "source": [
    "for text in ('Hello world', 'Hello worldly beings', 'Hello otherworldly beings'):\n",
    "    print(tokenizer.encode(text))"
   ]
  },
  {
   "cell_type": "code",
   "execution_count": null,
   "id": "72adf3c1-0175-4a00-a7ca-4ec4454ec182",
   "metadata": {},
   "outputs": [],
   "source": [
    "for text in ('Hello world', 'Hello worldly beings', 'Hello otherworldly beings'):\n",
    "    print([tokenizer.decode(id) for id in tokenizer(text, is_split_into_words=True)['input_ids']])"
   ]
  },
  {
   "cell_type": "code",
   "execution_count": null,
   "id": "46607a65-3f01-42fe-a049-91876fa38ba8",
   "metadata": {},
   "outputs": [],
   "source": [
    "for text in ('Hello world', 'Hello worldly beings', 'Hello otherworldly beings'):\n",
    "    print(tokenizer.convert_ids_to_tokens(tokenizer(text)['input_ids']))"
   ]
  },
  {
   "cell_type": "code",
   "execution_count": null,
   "id": "40fe26e7-cb21-4020-b8d4-b4b71cf6d70a",
   "metadata": {},
   "outputs": [],
   "source": [
    "tokenizer.get_added_vocab()"
   ]
  },
  {
   "cell_type": "code",
   "execution_count": null,
   "id": "1022a700-b6a8-4c8f-8237-133cc0391dd2",
   "metadata": {},
   "outputs": [],
   "source": [
    "for text in ('Hello world', 'Hello worldly beings', 'Hello otherworldly beings'):\n",
    "    print(tokenizer.tokenize(text))"
   ]
  },
  {
   "cell_type": "code",
   "execution_count": null,
   "id": "03e84537-503d-4672-8d8c-24a0247fd02b",
   "metadata": {},
   "outputs": [],
   "source": [
    "def clean_tokenized_text(tokenized_text):\n",
    "    words = [wd.replace('Ġ', ' ') if wd.startswith('Ġ') else '#' + wd for wd in tokenized_text]\n",
    "    return ''.join(words)"
   ]
  },
  {
   "cell_type": "code",
   "execution_count": null,
   "id": "7e3b0950-c6b6-4ca4-81af-9f59f4787e53",
   "metadata": {},
   "outputs": [],
   "source": [
    "with open('28_sample_en_text.txt') as f:\n",
    "    text = f.read()\n",
    "\n",
    "print(clean_tokenized_text(tokenizer.tokenize(text)))"
   ]
  },
  {
   "cell_type": "markdown",
   "id": "8ea7882c-a97f-450f-bb12-1722899169ae",
   "metadata": {},
   "source": [
    "It's clear that GPT was trained with a high number of merges, because there are barely any words that get split. Still, there are some; here's an example:"
   ]
  },
  {
   "cell_type": "code",
   "execution_count": null,
   "id": "a8f18184-173a-4089-b874-83a99fc72a2e",
   "metadata": {},
   "outputs": [],
   "source": [
    "tokenizer.tokenize('debutant')"
   ]
  },
  {
   "cell_type": "markdown",
   "id": "95c113cc-1448-424e-9520-79d548d1756c",
   "metadata": {},
   "source": [
    "I bet that if I train a BPE encoder with the bible with a low number of merges, there will be many more splits. The question is how much time it would take to train with the maximum number of merges."
   ]
  },
  {
   "cell_type": "code",
   "execution_count": null,
   "id": "9d27300d-6ae6-4232-8aa6-c7d7c6df0713",
   "metadata": {},
   "outputs": [],
   "source": []
  }
 ],
 "metadata": {
  "kernelspec": {
   "display_name": "Python 3 (ipykernel)",
   "language": "python",
   "name": "python3"
  },
  "language_info": {
   "codemirror_mode": {
    "name": "ipython",
    "version": 3
   },
   "file_extension": ".py",
   "mimetype": "text/x-python",
   "name": "python",
   "nbconvert_exporter": "python",
   "pygments_lexer": "ipython3",
   "version": "3.12.0"
  }
 },
 "nbformat": 4,
 "nbformat_minor": 5
}
