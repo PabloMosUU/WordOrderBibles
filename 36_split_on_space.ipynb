{
 "cells": [
  {
   "cell_type": "code",
   "execution_count": null,
   "id": "4c2eaf3e-231a-4c57-99cf-3826486449f7",
   "metadata": {},
   "outputs": [],
   "source": [
    "import data"
   ]
  },
  {
   "cell_type": "code",
   "execution_count": null,
   "id": "4bafc9f9-e787-424d-83a0-46612cd6ea02",
   "metadata": {},
   "outputs": [],
   "source": [
    "import compression_entropy as ce"
   ]
  },
  {
   "cell_type": "code",
   "execution_count": null,
   "id": "6694cc68-c79b-4da5-a64f-f8d074c3562e",
   "metadata": {},
   "outputs": [],
   "source": [
    "import os"
   ]
  },
  {
   "cell_type": "code",
   "execution_count": null,
   "id": "5efdee25-bd36-4a9c-b89e-173617871e92",
   "metadata": {},
   "outputs": [],
   "source": [
    "BIBLE_DIR = '../paralleltext/bibles/corpus'\n",
    "LOWERCASE = True\n",
    "CHOSEN_BOOKS = [40, 41, 42, 43, 44, 66]\n",
    "TRUNCATE_BOOKS = False"
   ]
  },
  {
   "cell_type": "code",
   "execution_count": null,
   "id": "2234fb20-c92b-4dbb-9b73-18cdef30bd53",
   "metadata": {},
   "outputs": [],
   "source": [
    "bible_files = os.listdir(BIBLE_DIR)"
   ]
  },
  {
   "cell_type": "code",
   "execution_count": null,
   "id": "b5dde152-77fe-438f-af14-e44ec6e64c59",
   "metadata": {},
   "outputs": [],
   "source": [
    "with_diff = {}\n",
    "for bible_file in bible_files:\n",
    "    full_file = os.path.join(BIBLE_DIR, bible_file)\n",
    "    sel_verses_space = ce.read_selected_verses(full_file, LOWERCASE, CHOSEN_BOOKS, TRUNCATE_BOOKS,\n",
    "                                               split_on_explicit_space=True)\n",
    "    sel_verses_none = ce.read_selected_verses(full_file, LOWERCASE, CHOSEN_BOOKS, TRUNCATE_BOOKS,\n",
    "                                              split_on_explicit_space=False)\n",
    "    if sel_verses_space != sel_verses_none:\n",
    "        with_diff[bible_file] = (sel_verses_space, sel_verses_none)"
   ]
  },
  {
   "cell_type": "code",
   "execution_count": null,
   "id": "5bde1bde-9bec-499c-ba7e-f9b4c4bcf294",
   "metadata": {},
   "outputs": [],
   "source": [
    "with open('bibles_with_non_standard_spaces.txt', 'w') as f:\n",
    "    f.write('\\n'.join(with_diff.keys()))"
   ]
  },
  {
   "cell_type": "code",
   "execution_count": null,
   "id": "61bcb12d-41fb-48df-a59f-89c86d191edf",
   "metadata": {},
   "outputs": [],
   "source": []
  }
 ],
 "metadata": {
  "kernelspec": {
   "display_name": "Python 3 (ipykernel)",
   "language": "python",
   "name": "python3"
  },
  "language_info": {
   "codemirror_mode": {
    "name": "ipython",
    "version": 3
   },
   "file_extension": ".py",
   "mimetype": "text/x-python",
   "name": "python",
   "nbconvert_exporter": "python",
   "pygments_lexer": "ipython3",
   "version": "3.12.0"
  }
 },
 "nbformat": 4,
 "nbformat_minor": 5
}
