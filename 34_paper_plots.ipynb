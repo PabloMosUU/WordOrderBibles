{
 "cells": [
  {
   "cell_type": "code",
   "execution_count": null,
   "id": "390867a8",
   "metadata": {},
   "outputs": [],
   "source": [
    "import numpy as np\n",
    "from sklearn.feature_selection import r_regression\n",
    "import pandas as pd\n",
    "import os\n",
    "import matplotlib.pyplot as plt\n",
    "from util import make_book_plot\n",
    "from collections import defaultdict\n",
    "from analysis import get_spearman, get_transition_errors"
   ]
  },
  {
   "cell_type": "code",
   "execution_count": null,
   "id": "98d21e53-cd82-4736-b9e0-69c2db3530c7",
   "metadata": {},
   "outputs": [],
   "source": [
    "FILENAME = 'output/KoplenigEtAl/merged.csv'\n",
    "PLOTS_DIR = 'output/KoplenigEtAl/Plots/Paper'\n",
    "BIBLES_TO_EXCLUDE = 'bibles_to_exclude.txt'"
   ]
  },
  {
   "cell_type": "code",
   "execution_count": null,
   "id": "2bd277b3-4994-436e-91a3-c44db474bc8c",
   "metadata": {},
   "outputs": [],
   "source": [
    "df = pd.read_csv(FILENAME)"
   ]
  },
  {
   "cell_type": "markdown",
   "id": "18936951-863f-4e69-893e-acd6e8a68b40",
   "metadata": {},
   "source": [
    "# Exclude bibles that should not be used"
   ]
  },
  {
   "cell_type": "code",
   "execution_count": null,
   "id": "de617fa1-2ac2-4b65-8264-f8f0d00c57e0",
   "metadata": {},
   "outputs": [],
   "source": [
    "with open(BIBLES_TO_EXCLUDE) as f:\n",
    "    lines = f.readlines()\n",
    "bibles_to_exclude = [line.split('#')[0].strip() for line in lines if line.strip() != '']\n",
    "print(bibles_to_exclude)"
   ]
  },
  {
   "cell_type": "code",
   "execution_count": null,
   "id": "223dec91-fb81-4707-a814-c1e4c1b95fe7",
   "metadata": {},
   "outputs": [],
   "source": [
    "print(len(df))\n",
    "df = df[df['bible'].apply(lambda x: x not in bibles_to_exclude)].reset_index()\n",
    "print(len(df))"
   ]
  },
  {
   "cell_type": "code",
   "execution_count": null,
   "id": "8a0173c0-c5b3-47db-a8d0-27d7869b922e",
   "metadata": {},
   "outputs": [],
   "source": [
    "df['language'] = df['bible'].apply(lambda x: x.split('-')[0])\n",
    "df['language'].nunique()"
   ]
  },
  {
   "cell_type": "markdown",
   "id": "b725570e-c814-4987-b212-64eea6b9b66f",
   "metadata": {},
   "source": [
    "# Sample correlation plot\n",
    "\n",
    "- Book: Matthew\n",
    "- Bible: xuo"
   ]
  },
  {
   "cell_type": "code",
   "execution_count": null,
   "id": "b778716c-4f97-46dd-803d-963e376b6cae",
   "metadata": {},
   "outputs": [],
   "source": [
    "fig_corr, ax_corr = make_book_plot(df[df['bible'] == 'xuo-x-bible.txt'], 'Matthew', 'xuo')"
   ]
  },
  {
   "cell_type": "code",
   "execution_count": null,
   "id": "759ad2a8-bb33-4b66-9360-038d98fd1ff8",
   "metadata": {},
   "outputs": [],
   "source": [
    "fig_corr.savefig(os.path.join(PLOTS_DIR, 'xuo_matthew_correlation.png'))"
   ]
  },
  {
   "cell_type": "markdown",
   "id": "a61c5b9b-72c8-454a-ad48-17fb69d51a35",
   "metadata": {},
   "source": [
    "# Spearman correlation coefficients\n",
    "\n",
    "We have no reason to suspect the correlations are linear, so we can't use Pearson's correlation coefficient, but rather Spearman's. We will compute correlations between D_order and D_structure, and between each of those and iter_id."
   ]
  },
  {
   "cell_type": "code",
   "execution_count": null,
   "id": "bf05666f-1460-445f-a4d5-b4f93e4a7db4",
   "metadata": {},
   "outputs": [],
   "source": [
    "df.sample(5)"
   ]
  },
  {
   "cell_type": "code",
   "execution_count": null,
   "id": "f14b596c-4b7e-49cb-abad-648e4be853e3",
   "metadata": {},
   "outputs": [],
   "source": [
    "assert len(df[df['experiment'].apply(lambda x: x != 'pasting' and x != 'splitting')]) == 0\n",
    "df['n_splits'] = df.apply(lambda row: row['iter_id'] * (1 if row['experiment'] == 'splitting' else -1), 1)"
   ]
  },
  {
   "cell_type": "code",
   "execution_count": null,
   "id": "c12ace84",
   "metadata": {},
   "outputs": [],
   "source": [
    "spearmans = []\n",
    "warnings = []\n",
    "empties = []\n",
    "bible_book_transitions = {}\n",
    "for bible_name, bible_grp in df.groupby('bible'):\n",
    "    bible_book_transitions[bible_name] = {}\n",
    "    for book_name, book_grp in bible_grp.groupby('book'):\n",
    "        bible_book_transitions[bible_name][book_name] = get_transition_errors(book_grp)\n",
    "        if len(book_grp) == 0:\n",
    "            empties.append((bible_name, book_name))\n",
    "            continue\n",
    "        try:\n",
    "            spearmans.append((bible_name, book_name, get_spearman(book_grp)))\n",
    "        except ValueError as e:\n",
    "            warnings.append((bible_name, book_name, e))"
   ]
  },
  {
   "cell_type": "markdown",
   "id": "085e903c-4793-4abf-a2ac-32e31f18a911",
   "metadata": {},
   "source": [
    "# Check errors\n",
    "\n",
    "Check that there are no empties or warnings, and evaluate the transition errors"
   ]
  },
  {
   "cell_type": "code",
   "execution_count": null,
   "id": "2ddce988",
   "metadata": {},
   "outputs": [],
   "source": [
    "assert not len(empties)"
   ]
  },
  {
   "cell_type": "code",
   "execution_count": null,
   "id": "b52771fc-f9a8-40ae-b427-b447d2bdbd41",
   "metadata": {},
   "outputs": [],
   "source": [
    "assert not len(warnings)"
   ]
  },
  {
   "cell_type": "code",
   "execution_count": null,
   "id": "68c75f57-a7d1-44c9-b89d-1796c21e735c",
   "metadata": {},
   "outputs": [],
   "source": [
    "transition_errors = []\n",
    "for bible_name, book_transitions in bible_book_transitions.items():\n",
    "    for book_name, transitions in book_transitions.items():\n",
    "        transition_errors.append({'bible': bible_name, 'book': book_name})\n",
    "        for k, v in transitions.items():\n",
    "            transition_errors[-1][k] = v\n",
    "transition_df = pd.DataFrame(transition_errors)"
   ]
  },
  {
   "cell_type": "code",
   "execution_count": null,
   "id": "d3466b07-cab2-4a2c-91d3-b6a0487e4da3",
   "metadata": {},
   "outputs": [],
   "source": [
    "max_diff_bible_book = {}\n",
    "for col in ('orig', 'shuffled', 'masked'):\n",
    "    print(col + ':', transition_df[transition_df[col] == transition_df[col].max()][[col, 'bible', 'book']].values)\n",
    "    max_diff_bible_book[col] = transition_df[transition_df[col] == transition_df[col].max()][[col, 'bible', 'book']].values[0]"
   ]
  },
  {
   "cell_type": "code",
   "execution_count": null,
   "id": "9371a89f-0724-4879-b4b4-338bd76c8eec",
   "metadata": {},
   "outputs": [],
   "source": [
    "version_fig_ax_max = {}\n",
    "for version, diff_bible_book in max_diff_bible_book.items():\n",
    "    version_fig_ax_max[version] = make_book_plot(df[df['bible'] == diff_bible_book[1]], diff_bible_book[2], diff_bible_book[1])"
   ]
  },
  {
   "cell_type": "markdown",
   "id": "e6d56560-c40a-494a-9ffb-52835a54e50b",
   "metadata": {},
   "source": [
    "These are odd but the trends are completely consistent with the observations made before."
   ]
  },
  {
   "cell_type": "markdown",
   "id": "4a231f41-16e3-49f7-9bbd-d9d946ced603",
   "metadata": {},
   "source": [
    "# Correlation coefficient histograms"
   ]
  },
  {
   "cell_type": "code",
   "execution_count": null,
   "id": "0cf9aa23",
   "metadata": {},
   "outputs": [],
   "source": [
    "# order_splits\n",
    "plt.hist([rho[2][0] for rho in spearmans])\n",
    "plt.xlabel('Spearman(n_splits, D_order)')\n",
    "plt.ylabel('Number of book-translation pairs')\n",
    "plt.yscale(\"log\")\n",
    "plt.savefig(os.path.join(PLOTS_DIR, 'splits_order.png'))\n",
    "plt.show()"
   ]
  },
  {
   "cell_type": "code",
   "execution_count": null,
   "id": "5ae258cc",
   "metadata": {},
   "outputs": [],
   "source": [
    "# structure_splits\n",
    "plt.hist([rho[2][1] for rho in spearmans])\n",
    "plt.xlabel('Spearman(n_splits, D_structure)')\n",
    "plt.ylabel('Number of book-translation pairs')\n",
    "plt.yscale(\"log\")\n",
    "plt.savefig(os.path.join(PLOTS_DIR, 'splits_structure.png'))\n",
    "plt.show()"
   ]
  },
  {
   "cell_type": "code",
   "execution_count": null,
   "id": "67fe5c63",
   "metadata": {},
   "outputs": [],
   "source": [
    "# structure_order\n",
    "plt.hist([rho[2][2] for rho in spearmans])\n",
    "plt.xlabel('Spearman(D_order, D_structure)')\n",
    "plt.ylabel('Number of book-translation pairs')\n",
    "plt.yscale(\"log\")\n",
    "plt.savefig(os.path.join(PLOTS_DIR, 'order_structure.png'))\n",
    "plt.show()"
   ]
  },
  {
   "cell_type": "code",
   "execution_count": null,
   "id": "e9e562e8-35c2-4946-b503-c13d13a52a76",
   "metadata": {},
   "outputs": [],
   "source": [
    "df[(df['bible'] == 'rme-x-bible-goodshepherd.txt') & (df['book_id'] == 66)]"
   ]
  },
  {
   "cell_type": "code",
   "execution_count": null,
   "id": "8b0f497e-ee11-470d-9112-b09a22365991",
   "metadata": {},
   "outputs": [],
   "source": [
    "fig_corr, ax_corr = make_book_plot(df[df['bible'] == 'rme-x-bible-goodshepherd.txt'], 'Revelation', 'rme')"
   ]
  },
  {
   "cell_type": "code",
   "execution_count": null,
   "id": "02779bdf-9e8f-4b1c-8ede-d2afad7d308f",
   "metadata": {},
   "outputs": [],
   "source": []
  }
 ],
 "metadata": {
  "kernelspec": {
   "display_name": "Python 3 (ipykernel)",
   "language": "python",
   "name": "python3"
  },
  "language_info": {
   "codemirror_mode": {
    "name": "ipython",
    "version": 3
   },
   "file_extension": ".py",
   "mimetype": "text/x-python",
   "name": "python",
   "nbconvert_exporter": "python",
   "pygments_lexer": "ipython3",
   "version": "3.12.0"
  }
 },
 "nbformat": 4,
 "nbformat_minor": 5
}
