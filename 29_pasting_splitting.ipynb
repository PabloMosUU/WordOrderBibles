{
 "cells": [
  {
   "cell_type": "code",
   "execution_count": null,
   "id": "864c7c86-1a29-41f3-8c95-c57637330658",
   "metadata": {},
   "outputs": [],
   "source": [
    "import os\n",
    "import json\n",
    "import pandas as pd\n",
    "import matplotlib.pyplot as plt"
   ]
  },
  {
   "cell_type": "code",
   "execution_count": null,
   "id": "0d060702-90ec-4acd-a2d7-23a3064a9c8b",
   "metadata": {},
   "outputs": [],
   "source": [
    "WORD_PASTING_DIR = '/Users/Moste007/surfdrive/LinguisticTheories/WordOrderBibles/WordOrderBibles_HPC/output/KoplenigEtAl/WordPasting'\n",
    "WORD_SPLITTING_DIR = '/Users/Moste007/surfdrive/LinguisticTheories/WordOrderBibles/GitHub/output/KoplenigEtAl/WordSplitting'\n",
    "IMAGE_DIR = 'output/KoplenigEtAl/WordSplitting/FileToPlots'\n",
    "BIBLE_FILENAME_ROOT = 'cap-x-bible-1978'"
   ]
  },
  {
   "cell_type": "code",
   "execution_count": null,
   "id": "41d97b45-f0b6-4a67-81bb-2342932ddc54",
   "metadata": {},
   "outputs": [],
   "source": [
    "entropies_filename = f'entropies_{BIBLE_FILENAME_ROOT}.txt.csv'"
   ]
  },
  {
   "cell_type": "code",
   "execution_count": null,
   "id": "fcd56fd7-0278-4f4c-95df-d97084c460f9",
   "metadata": {},
   "outputs": [],
   "source": [
    "wp_filename = os.path.join(WORD_PASTING_DIR, entropies_filename)\n",
    "ws_filename = os.path.join(WORD_SPLITTING_DIR, entropies_filename)"
   ]
  },
  {
   "cell_type": "code",
   "execution_count": null,
   "id": "efec83c3-adb4-4e8f-be38-0d64f4788a86",
   "metadata": {},
   "outputs": [],
   "source": [
    "wp_df = pd.read_csv(wp_filename)\n",
    "ws_df = pd.read_csv(ws_filename)"
   ]
  },
  {
   "cell_type": "code",
   "execution_count": null,
   "id": "1dfd7494-fe44-4e7c-afc4-6249e2fe78ef",
   "metadata": {},
   "outputs": [],
   "source": [
    "wp_df['experiment'] = 'pasting'\n",
    "ws_df['experiment'] = 'splitting'\n",
    "ws_df['iter_id'] = ws_df['iter_id'].apply(lambda x: -x)\n",
    "df = pd.concat([wp_df, ws_df])"
   ]
  },
  {
   "cell_type": "code",
   "execution_count": null,
   "id": "cdb6b2d4-e054-4f68-8754-33266509b99a",
   "metadata": {},
   "outputs": [],
   "source": [
    "df[df['book_id'] == 40]"
   ]
  },
  {
   "cell_type": "code",
   "execution_count": null,
   "id": "5b9ea8e1-9854-4323-a378-051f6c4efa70",
   "metadata": {},
   "outputs": [],
   "source": [
    "for lbl, grp in df.groupby('book'):\n",
    "    xs = grp[grp['experiment'] == 'splitting']['D_order'].tolist()\n",
    "    ys = grp[grp['experiment'] == 'splitting']['D_structure'].tolist()\n",
    "    xp = grp[grp['experiment'] == 'pasting']['D_order'].tolist()\n",
    "    yp = grp[grp['experiment'] == 'pasting']['D_structure'].tolist()\n",
    "    labelss = grp[grp['experiment'] == 'splitting']['iter_id'].tolist()\n",
    "    labelsp = grp[grp['experiment'] == 'pasting']['iter_id'].tolist()\n",
    "    fig, ax = plt.subplots()\n",
    "    ax.scatter(xs, ys)\n",
    "    ax.scatter(xp, yp)\n",
    "    plt.xlabel('Word order information')\n",
    "    plt.ylabel('Word structure information')\n",
    "    plt.title(f'{lbl}')\n",
    "    for i, txt in enumerate(labelss):\n",
    "        ax.annotate(txt, (xs[i], ys[i]), rotation=45)\n",
    "    for i, txt in enumerate(labelsp):\n",
    "        ax.annotate(txt, (xp[i], yp[i]), rotation=45)\n",
    "    plt.savefig(f'{IMAGE_DIR}/{BIBLE_FILENAME_ROOT}_{lbl}.png')"
   ]
  },
  {
   "cell_type": "code",
   "execution_count": null,
   "id": "360e3753-c182-4aef-9a02-538455aa0427",
   "metadata": {},
   "outputs": [],
   "source": []
  }
 ],
 "metadata": {
  "kernelspec": {
   "display_name": "Python 3 (ipykernel)",
   "language": "python",
   "name": "python3"
  },
  "language_info": {
   "codemirror_mode": {
    "name": "ipython",
    "version": 3
   },
   "file_extension": ".py",
   "mimetype": "text/x-python",
   "name": "python",
   "nbconvert_exporter": "python",
   "pygments_lexer": "ipython3",
   "version": "3.12.0"
  }
 },
 "nbformat": 4,
 "nbformat_minor": 5
}
