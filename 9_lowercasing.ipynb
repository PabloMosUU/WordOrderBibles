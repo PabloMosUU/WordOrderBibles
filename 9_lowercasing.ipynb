{
 "cells": [
  {
   "cell_type": "code",
   "execution_count": null,
   "metadata": {},
   "outputs": [],
   "source": [
    "import os"
   ]
  },
  {
   "cell_type": "code",
   "execution_count": null,
   "metadata": {},
   "outputs": [],
   "source": [
    "from collections import defaultdict, Counter"
   ]
  },
  {
   "cell_type": "code",
   "execution_count": null,
   "metadata": {},
   "outputs": [],
   "source": [
    "bibles_dir = '/home/pablo/Documents/GitHubRepos/paralleltext/bibles/corpus/'"
   ]
  },
  {
   "cell_type": "code",
   "execution_count": null,
   "metadata": {},
   "outputs": [],
   "source": [
    "files = os.listdir(bibles_dir)"
   ]
  },
  {
   "cell_type": "code",
   "execution_count": null,
   "metadata": {},
   "outputs": [],
   "source": [
    "files = [bibles_dir + file for file in files]"
   ]
  },
  {
   "cell_type": "code",
   "execution_count": null,
   "metadata": {},
   "outputs": [],
   "source": [
    "def find_script(file):\n",
    "    with open(file, 'r') as f:\n",
    "        while True:\n",
    "            line = f.readline()\n",
    "            if not line:\n",
    "                break\n",
    "            if 'ISO_15924' in line:\n",
    "                return [el for el in line.split() if el.strip() != ''][-1].strip()"
   ]
  },
  {
   "cell_type": "code",
   "execution_count": null,
   "metadata": {},
   "outputs": [],
   "source": [
    "script_files = defaultdict(list)\n",
    "for file in files:\n",
    "    script_files[find_script(file)].append(file)"
   ]
  },
  {
   "cell_type": "code",
   "execution_count": null,
   "metadata": {},
   "outputs": [],
   "source": [
    "script_n_files = Counter([el for lis in [len(v) * [k] for k, v in script_files.items()] for el in lis])"
   ]
  },
  {
   "cell_type": "code",
   "execution_count": null,
   "metadata": {},
   "outputs": [],
   "source": [
    "count_so_far = 0\n",
    "common_scripts = []\n",
    "for script, ct in script_n_files.most_common():\n",
    "    count_so_far += ct\n",
    "    common_scripts.append(script)\n",
    "    if count_so_far / len(files) > 0.9:\n",
    "        break"
   ]
  },
  {
   "cell_type": "code",
   "execution_count": null,
   "metadata": {},
   "outputs": [],
   "source": [
    "common_scripts"
   ]
  },
  {
   "cell_type": "markdown",
   "metadata": {},
   "source": [
    "It suffices to check if these are lowercased correctly to account for 90% of the bibles.\n",
    "\n",
    "I checked them, and they are correct.\n",
    "\n",
    "However, the article hangs on comparing multiple languages. Figure 1 highlights a number of languages by ISO code: chr–Cherokee; cmn–Mandarin Chinese; deu–Standard German; eng–English; esk–Northwest Alaska Inupiatun; grc–Koine Greek; mya–Burmese; tam–Tamil; qvw—Huaylla Wanca Quechua; vie–Vietnamese; xuo–Kuo; zul–Zulu. Let's check those."
   ]
  },
  {
   "cell_type": "code",
   "execution_count": null,
   "metadata": {},
   "outputs": [],
   "source": [
    "koplenig_et_al_languages = \"chr–Cherokee; cmn–Mandarin Chinese; deu–Standard German; eng–English; esk–Northwest Alaska Inupiatun; grc–Koine Greek; mya–Burmese; tam–Tamil; qvw–Huaylla Wanca Quechua; vie–Vietnamese; xuo–Kuo; zul–Zulu\".split(\";\")\n",
    "koplenig_et_al_languages = [l.split('–')[0].strip() for l in koplenig_et_al_languages]"
   ]
  },
  {
   "cell_type": "code",
   "execution_count": null,
   "metadata": {},
   "outputs": [],
   "source": [
    "def find_language(filename: str) -> str:\n",
    "    with open(filename, 'r') as f:\n",
    "        while True:\n",
    "            line = f.readline()\n",
    "            if not line:\n",
    "                break\n",
    "            if 'closest_ISO_639-3' in line:\n",
    "                return [el for el in line.split() if el.strip() != ''][2].strip()\n",
    "    return 'error'"
   ]
  },
  {
   "cell_type": "code",
   "execution_count": null,
   "metadata": {},
   "outputs": [],
   "source": [
    "languages = [find_language(file) for file in files]"
   ]
  },
  {
   "cell_type": "code",
   "execution_count": null,
   "metadata": {},
   "outputs": [],
   "source": [
    "scripts = [find_script(file) for file in files]"
   ]
  },
  {
   "cell_type": "code",
   "execution_count": null,
   "metadata": {},
   "outputs": [],
   "source": [
    "scripts_to_check = set([])\n",
    "for l in koplenig_et_al_languages:\n",
    "    for i, language in enumerate(languages):\n",
    "        if language == l:\n",
    "            # We're only interested in those that are not the most common scripts\n",
    "            if scripts[i] not in common_scripts:\n",
    "                scripts_to_check.add(scripts[i])"
   ]
  },
  {
   "cell_type": "code",
   "execution_count": null,
   "metadata": {},
   "outputs": [],
   "source": [
    "scripts_to_check"
   ]
  },
  {
   "cell_type": "markdown",
   "metadata": {},
   "source": [
    "These are the additional scripts we need to check. We've already checked Greek, so there are two left to be checked."
   ]
  },
  {
   "cell_type": "code",
   "execution_count": null,
   "metadata": {},
   "outputs": [],
   "source": [
    "sorted([(i, scripts[i], languages[i], files[i].split('/')[-1]) for i in range(len(scripts)) \\\n",
    " if scripts[i] in scripts_to_check and languages[i] in koplenig_et_al_languages], key=lambda el: el[1])"
   ]
  },
  {
   "cell_type": "markdown",
   "metadata": {},
   "source": [
    "I need to check the Myanmar and Tamil alphabets. These do not necessarily have uppercasing, but I need to check.\n",
    "\n",
    "I believe the Burmese script has no uppercasing. We will check whether lowering does anything to these languages."
   ]
  },
  {
   "cell_type": "code",
   "execution_count": null,
   "metadata": {},
   "outputs": [],
   "source": [
    "for to_check in sorted([(i, scripts[i], languages[i], files[i].split('/')[-1]) for i in range(len(scripts)) \\\n",
    " if scripts[i] in scripts_to_check and languages[i] in koplenig_et_al_languages], key=lambda el: el[1]):\n",
    "    if to_check[1] != 'Mymr':\n",
    "        continue\n",
    "    with open(bibles_dir + to_check[3], 'r') as f:\n",
    "        lines = f.readlines()\n",
    "    text = ' '.join([line.split('\\t')[1] for line in lines if line[0] != '#'])\n",
    "    lowd = text.lower()\n",
    "    assert text == lowd"
   ]
  },
  {
   "cell_type": "markdown",
   "metadata": {},
   "source": [
    "The same holds for Tamil, so let's check it"
   ]
  },
  {
   "cell_type": "code",
   "execution_count": null,
   "metadata": {},
   "outputs": [],
   "source": [
    "for to_check in sorted([(i, scripts[i], languages[i], files[i].split('/')[-1]) for i in range(len(scripts)) \\\n",
    " if scripts[i] in scripts_to_check and languages[i] in koplenig_et_al_languages], key=lambda el: el[1]):\n",
    "    if to_check[1] != 'Taml':\n",
    "        continue\n",
    "    with open(bibles_dir + to_check[3], 'r') as f:\n",
    "        lines = f.readlines()\n",
    "    text = ' '.join([line.split('\\t')[1] for line in lines if line[0] != '#'])\n",
    "    lowd = text.lower()\n",
    "    assert text == lowd"
   ]
  },
  {
   "cell_type": "markdown",
   "metadata": {},
   "source": [
    "And this does NOT hold for Greek, so let's check that the assertion is backwards there"
   ]
  },
  {
   "cell_type": "code",
   "execution_count": null,
   "metadata": {},
   "outputs": [],
   "source": [
    "for to_check in sorted([(i, scripts[i], languages[i], files[i].split('/')[-1]) for i in range(len(scripts)) \\\n",
    " if scripts[i] in scripts_to_check and languages[i] in koplenig_et_al_languages], key=lambda el: el[1]):\n",
    "    if to_check[1] != 'Grek':\n",
    "        continue\n",
    "    with open(bibles_dir + to_check[3], 'r') as f:\n",
    "        lines = f.readlines()\n",
    "    text = ' '.join([line.split('\\t')[1] for line in lines if line[0] != '#'])\n",
    "    lowd = text.lower()\n",
    "    if text == lowd:\n",
    "        print(to_check[3])"
   ]
  },
  {
   "cell_type": "markdown",
   "metadata": {},
   "source": [
    "Upon inspection, all of these are uncased, so it makes sense that the lowercased version is equal to the uppercased version. We can proceed further, then."
   ]
  },
  {
   "cell_type": "markdown",
   "metadata": {},
   "source": [
    "# Print the list of bibles that we need to analyze"
   ]
  },
  {
   "cell_type": "code",
   "execution_count": null,
   "metadata": {},
   "outputs": [],
   "source": [
    "[files[i].split('/')[-1] for i in range(len(files)) if languages[i] in koplenig_et_al_languages]"
   ]
  },
  {
   "cell_type": "code",
   "execution_count": null,
   "metadata": {},
   "outputs": [],
   "source": []
  }
 ],
 "metadata": {
  "kernelspec": {
   "display_name": "Python 3",
   "language": "python",
   "name": "python3"
  },
  "language_info": {
   "codemirror_mode": {
    "name": "ipython",
    "version": 3
   },
   "file_extension": ".py",
   "mimetype": "text/x-python",
   "name": "python",
   "nbconvert_exporter": "python",
   "pygments_lexer": "ipython3",
   "version": "3.8.12"
  }
 },
 "nbformat": 4,
 "nbformat_minor": 4
}
