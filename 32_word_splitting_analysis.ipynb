{
 "cells": [
  {
   "cell_type": "markdown",
   "id": "d456078d-c679-4cd0-9c51-16e804eb0049",
   "metadata": {},
   "source": [
    "# Number of bibles\n",
    "\n",
    "For every bible, I should know if it was processed correctly and, if not, why. Is it because none of the books were available? And how many books did we process for word-pasting? Do we have the same bibles for word-pasting and word-splitting?"
   ]
  },
  {
   "cell_type": "code",
   "execution_count": null,
   "id": "8d6efef6-7dc2-488d-9cbc-8368d8efbe08",
   "metadata": {},
   "outputs": [],
   "source": [
    "BIBLE_DIR = '/hpc/uu_ics_ads/pmosteiro/paralleltext/bibles/corpus'\n",
    "OUTPUT_DIR = '/hpc/uu_ics_ads/pmosteiro/WordOrderBibles/output/KoplenigEtAl/WordSplitting'\n",
    "EXPECTED_N_BIBLES = 2000"
   ]
  },
  {
   "cell_type": "code",
   "execution_count": null,
   "id": "e8e241b4-fa4c-4d4f-88ec-9d0f109a3614",
   "metadata": {},
   "outputs": [],
   "source": [
    "import os\n",
    "import re\n",
    "import json\n",
    "from util import to_csv\n",
    "import pandas as pd"
   ]
  },
  {
   "cell_type": "code",
   "execution_count": null,
   "id": "04567643-3443-4939-97da-9c746fb30964",
   "metadata": {},
   "outputs": [],
   "source": [
    "bibles = []\n",
    "for filename in os.listdir(BIBLE_DIR):\n",
    "    if not re.fullmatch('\\w\\w\\w-x-bible(-[\\w-]*)?(.txt)+', filename):\n",
    "        raise ValueError(filename + 'not of the right format')\n",
    "    bibles.append(filename)"
   ]
  },
  {
   "cell_type": "code",
   "execution_count": null,
   "id": "e3d4dcc2-1039-476e-88f2-70f37e8826af",
   "metadata": {},
   "outputs": [],
   "source": [
    "def is_subset(sublist: list) -> bool:\n",
    "    superlist = [40, 41, 42, 43, 44, 66]\n",
    "    return all([el in superlist for el in sublist]) and len(sublist) != 0"
   ]
  },
  {
   "cell_type": "code",
   "execution_count": null,
   "id": "bb38c4ff-7ad5-466e-a8d5-88610876893b",
   "metadata": {},
   "outputs": [],
   "source": [
    "def is_processed(bible_filename: str, output_dir: str) -> bool:\n",
    "    entropies_filename = f'entropies_{bible_filename}.json'\n",
    "    output_files = os.listdir(output_dir)\n",
    "    return entropies_filename in output_files"
   ]
  },
  {
   "cell_type": "code",
   "execution_count": null,
   "id": "21ef178b-1c9d-4b20-a52e-17ef1352c378",
   "metadata": {},
   "outputs": [],
   "source": [
    "def is_correct(csv_filename: str) -> bool:\n",
    "    df = pd.read_csv(csv_filename)\n",
    "    return len(df) > 0"
   ]
  },
  {
   "cell_type": "code",
   "execution_count": null,
   "id": "b849f5bc-f17d-4db2-a4ab-b9e1ff47d6b0",
   "metadata": {},
   "outputs": [],
   "source": [
    "def is_empty(json_file: str) -> bool:\n",
    "    with open(json_file) as f:\n",
    "        my_dict = json.loads(f.read())\n",
    "    if len(my_dict) == 0 or not is_subset(sorted([int(el) for el in my_dict.keys()])):\n",
    "        return True\n",
    "    return False"
   ]
  },
  {
   "cell_type": "code",
   "execution_count": null,
   "id": "4bd85b4f-95fc-4745-b7da-f591b91dedee",
   "metadata": {},
   "outputs": [],
   "source": [
    "empty_json = []\n",
    "processed = []\n",
    "not_processed = []\n",
    "for bible_filename in bibles:\n",
    "    # Was it processed correctly?\n",
    "    if is_processed(bible_filename, OUTPUT_DIR):\n",
    "        output_base = os.path.join(OUTPUT_DIR, f'entropies_{bible_filename}')\n",
    "        json_file = output_base + '.json'\n",
    "        if is_empty(json_file):\n",
    "            empty_json.append(json_file)\n",
    "            continue\n",
    "        processed.append(bible_filename)\n",
    "    else:\n",
    "        not_processed.append(bible_filename)"
   ]
  },
  {
   "cell_type": "code",
   "execution_count": null,
   "id": "6bdfb364-a120-4c0c-854e-bfbdbbefeba5",
   "metadata": {},
   "outputs": [],
   "source": [
    "assert len(empty_json) + len(processed) + len(not_processed) == len(bibles)\n",
    "assert len(bibles) == EXPECTED_N_BIBLES"
   ]
  },
  {
   "cell_type": "code",
   "execution_count": null,
   "id": "032efb05-9737-46e5-afef-a40acd027789",
   "metadata": {},
   "outputs": [],
   "source": [
    "print(len(processed), 'processed correctly')\n",
    "print(len(empty_json), 'processed but json is empty')\n",
    "print(len(not_processed), 'completely absent')"
   ]
  },
  {
   "cell_type": "markdown",
   "id": "053d9d44-9b7b-497c-83a2-f4408e1af095",
   "metadata": {},
   "source": [
    "## Processed but json is empty\n",
    "\n",
    "- check the empty-json category and see that it matched the word-pasting empty-json files\n",
    "\n",
    "- for each empty-json bible, check that none of the requested books is present"
   ]
  },
  {
   "cell_type": "code",
   "execution_count": null,
   "id": "a455ef81-76d8-4e38-b65f-1004376ea02d",
   "metadata": {},
   "outputs": [],
   "source": [
    "raise NotImplementedError()"
   ]
  },
  {
   "cell_type": "markdown",
   "id": "8e960377-5c5d-4cae-b36d-2edff1e576ce",
   "metadata": {},
   "source": [
    "## Completely absent\n",
    "\n",
    "- Check that these are exactly the same files that were excluded because of an unknown symbol"
   ]
  },
  {
   "cell_type": "code",
   "execution_count": null,
   "id": "1c628ee1-7e72-47ca-8b6d-77b2b8a82e66",
   "metadata": {},
   "outputs": [],
   "source": [
    "raise NotImplementedError()"
   ]
  },
  {
   "cell_type": "code",
   "execution_count": null,
   "id": "67c667f8-9e46-4cf0-aba6-5b62090a4ca2",
   "metadata": {},
   "outputs": [],
   "source": []
  }
 ],
 "metadata": {
  "kernelspec": {
   "display_name": "word_order_bibles",
   "language": "python",
   "name": "word_order_bibles"
  },
  "language_info": {
   "codemirror_mode": {
    "name": "ipython",
    "version": 3
   },
   "file_extension": ".py",
   "mimetype": "text/x-python",
   "name": "python",
   "nbconvert_exporter": "python",
   "pygments_lexer": "ipython3",
   "version": "3.10.4"
  }
 },
 "nbformat": 4,
 "nbformat_minor": 5
}
