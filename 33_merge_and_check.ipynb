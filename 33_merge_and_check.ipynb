{
 "cells": [
  {
   "cell_type": "code",
   "execution_count": null,
   "id": "fedae6c6-a16b-47c7-ba98-29a170042e8f",
   "metadata": {},
   "outputs": [],
   "source": [
    "import pandas as pd\n",
    "from util import make_plot_"
   ]
  },
  {
   "cell_type": "code",
   "execution_count": null,
   "id": "f52d76ca-8227-4119-bc7e-5f1b95ac7675",
   "metadata": {},
   "outputs": [],
   "source": [
    "df_pasting = pd.read_csv('output/KoplenigEtAl/WordPasting/merged.csv')\n",
    "df_splitting = pd.read_csv('output/KoplenigEtAl/WordSplitting/merged.csv')"
   ]
  },
  {
   "cell_type": "code",
   "execution_count": null,
   "id": "9df5dba1-2e5f-4028-947a-d08cad8565f8",
   "metadata": {},
   "outputs": [],
   "source": [
    "assert all(df_pasting.columns == df_splitting.columns)"
   ]
  },
  {
   "cell_type": "code",
   "execution_count": null,
   "id": "fdfb1954-fa6c-49ae-b29a-644b23dab510",
   "metadata": {},
   "outputs": [],
   "source": [
    "df_pasting['pasting'] = 1\n",
    "df_splitting['pasting'] = 0"
   ]
  },
  {
   "cell_type": "code",
   "execution_count": null,
   "id": "17bcddcc-d8ab-4edf-8ae8-5acb7c9c07e1",
   "metadata": {},
   "outputs": [],
   "source": [
    "df = pd.concat([df_pasting, df_splitting])"
   ]
  },
  {
   "cell_type": "code",
   "execution_count": null,
   "id": "45250d93-a5f6-4717-803b-2f2eda7ae4de",
   "metadata": {},
   "outputs": [],
   "source": [
    "df['book'] = df['version'].apply(lambda x: x.split('_')[1])"
   ]
  },
  {
   "cell_type": "code",
   "execution_count": null,
   "id": "cd974ab4-e7f9-411d-9737-8ec0caf2676d",
   "metadata": {},
   "outputs": [],
   "source": [
    "df['bible'] = df.apply(lambda row: f\"{row['language']}-x-{row['version'].split('_')[0]}\", 1)"
   ]
  },
  {
   "cell_type": "code",
   "execution_count": null,
   "id": "8210397c-3ab6-4d18-8400-a1f69f362ef3",
   "metadata": {},
   "outputs": [],
   "source": [
    "df['D_structure'] = df.apply(lambda row: row['ent masked'] - row['ent original'], 1)\n",
    "df['D_order'] = df.apply(lambda row: row['ent shuffled'] - row['ent original'], 1)"
   ]
  },
  {
   "cell_type": "code",
   "execution_count": null,
   "id": "2451b7ec-99cf-416e-b365-590880c1dbde",
   "metadata": {},
   "outputs": [],
   "source": [
    "df.drop(columns=['version'], inplace=True)"
   ]
  },
  {
   "cell_type": "code",
   "execution_count": null,
   "id": "d12d5b83-4f35-44e1-b80d-9e85297d3591",
   "metadata": {},
   "outputs": [],
   "source": [
    "df['experiment'] = df['pasting'].apply(lambda x: 'pasting' if x == 1 else 'splitting')"
   ]
  },
  {
   "cell_type": "code",
   "execution_count": null,
   "id": "ce60c7ea-9484-4204-9854-68fb1ffe473e",
   "metadata": {},
   "outputs": [],
   "source": [
    "df.rename(columns={'iteration': 'iter_id'}, inplace=True)"
   ]
  },
  {
   "cell_type": "markdown",
   "id": "5605b145-b017-4648-9517-db58fe2b4ee7",
   "metadata": {},
   "source": [
    "Make a plot to have the code to do this easily later and also to check that it matches what we had before."
   ]
  },
  {
   "cell_type": "code",
   "execution_count": null,
   "id": "e715f896-cb07-4ea2-a120-9649c1747b19",
   "metadata": {},
   "outputs": [],
   "source": [
    "bible_name = 'eng-x-bible-world'\n",
    "book_name = 'Mark'"
   ]
  },
  {
   "cell_type": "code",
   "execution_count": null,
   "id": "cdc50d09-3fff-4dbb-98bc-59b3e72fe3fe",
   "metadata": {},
   "outputs": [],
   "source": [
    "sample = df[(df['bible'] == bible_name) & (df['book'] == book_name)]"
   ]
  },
  {
   "cell_type": "code",
   "execution_count": null,
   "id": "6ed8fdae-c115-4475-9892-091dc4280744",
   "metadata": {},
   "outputs": [],
   "source": [
    "make_plot_(sample, bible_name, '')"
   ]
  },
  {
   "cell_type": "markdown",
   "id": "d717ce77-f226-48fc-b5a5-52917d7ed0dd",
   "metadata": {},
   "source": [
    "Save the merged csv file."
   ]
  },
  {
   "cell_type": "code",
   "execution_count": null,
   "id": "87c7d8b5-154f-4a77-aa07-a61bbe376f4b",
   "metadata": {},
   "outputs": [],
   "source": [
    "df.drop(columns=['D_structure', 'D_order', 'experiment'], inplace=True)"
   ]
  },
  {
   "cell_type": "code",
   "execution_count": null,
   "id": "247128f5-3ae9-44e5-a5c7-c784edb62808",
   "metadata": {},
   "outputs": [],
   "source": [
    "df.drop(columns=['language'], inplace=True)"
   ]
  },
  {
   "cell_type": "code",
   "execution_count": null,
   "id": "3498f296-759a-4c59-ae10-91b39550d26b",
   "metadata": {},
   "outputs": [],
   "source": [
    "assert len(df[df.apply(lambda row: not row['bible'][3:11] == '-x-bible', 1)]) == 0"
   ]
  },
  {
   "cell_type": "code",
   "execution_count": null,
   "id": "c68c2eb7-055c-4ede-8d91-86d5e84f595b",
   "metadata": {},
   "outputs": [],
   "source": [
    "df['language'] = df['bible'].apply(lambda x: x[:3])\n",
    "df['version'] = df['bible'].apply(lambda x: x[11:])\n",
    "df.drop(columns=['bible'], inplace=True)"
   ]
  },
  {
   "cell_type": "code",
   "execution_count": null,
   "id": "75103ce3-99e5-4ab8-b0d6-25d0d608d7f2",
   "metadata": {},
   "outputs": [],
   "source": [
    "df.to_csv('output/KoplenigEtAl/merged.csv', index=False)"
   ]
  },
  {
   "cell_type": "code",
   "execution_count": null,
   "id": "d25d20c4-98c1-4147-9b95-924905a83ef1",
   "metadata": {},
   "outputs": [],
   "source": []
  }
 ],
 "metadata": {
  "kernelspec": {
   "display_name": "Python 3 (ipykernel)",
   "language": "python",
   "name": "python3"
  },
  "language_info": {
   "codemirror_mode": {
    "name": "ipython",
    "version": 3
   },
   "file_extension": ".py",
   "mimetype": "text/x-python",
   "name": "python",
   "nbconvert_exporter": "python",
   "pygments_lexer": "ipython3",
   "version": "3.12.0"
  }
 },
 "nbformat": 4,
 "nbformat_minor": 5
}
