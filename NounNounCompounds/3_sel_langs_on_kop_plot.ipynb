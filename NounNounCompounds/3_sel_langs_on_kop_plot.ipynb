{
 "cells": [
  {
   "cell_type": "code",
   "execution_count": null,
   "metadata": {},
   "outputs": [],
   "source": [
    "import json\n",
    "from collections import defaultdict\n",
    "import pandas as pd\n",
    "import matplotlib.pyplot as plt\n",
    "from scipy.stats import linregress, spearmanr\n",
    "import numpy as np\n",
    "import sys\n",
    "sys.path.append('..')\n",
    "from data import build_dataframe"
   ]
  },
  {
   "cell_type": "code",
   "execution_count": null,
   "metadata": {},
   "outputs": [],
   "source": [
    "ENTROPIES_FILENAME = '../output/KoplenigEtAl/merged.csv'\n",
    "SEL_LANGS = ('eng', 'deu', 'nld')"
   ]
  },
  {
   "cell_type": "code",
   "execution_count": null,
   "metadata": {},
   "outputs": [],
   "source": [
    "df = pd.read_csv(ENTROPIES_FILENAME)"
   ]
  },
  {
   "cell_type": "code",
   "execution_count": null,
   "metadata": {},
   "outputs": [],
   "source": [
    "df_orig_books = df[df['iter_id'] == 0].reset_index(drop=True)"
   ]
  },
  {
   "cell_type": "code",
   "execution_count": null,
   "metadata": {},
   "outputs": [],
   "source": [
    "df_sel_langs = df_orig_books[df_orig_books['bible'].apply(lambda x: any([x.startswith(el) for el in SEL_LANGS]))].reset_index(drop=True)"
   ]
  },
  {
   "cell_type": "code",
   "execution_count": null,
   "metadata": {},
   "outputs": [],
   "source": [
    "df_sel_langs['bible_id'] = df_sel_langs['bible'].apply(lambda x: x.strip().replace('.txt', '').replace('-bible', ''))"
   ]
  },
  {
   "cell_type": "code",
   "execution_count": null,
   "metadata": {},
   "outputs": [],
   "source": [
    "df = df_sel_langs"
   ]
  },
  {
   "cell_type": "code",
   "execution_count": null,
   "metadata": {},
   "outputs": [],
   "source": [
    "df = df[df['experiment'] == 'pasting'].reset_index(drop=True)"
   ]
  },
  {
   "cell_type": "code",
   "execution_count": null,
   "metadata": {},
   "outputs": [],
   "source": [
    "for book_name in df['book'].unique():\n",
    "    book_df = df[df['book'] == book_name].reset_index(drop=True)\n",
    "    assert len(book_df) == book_df['bible_id'].nunique(), (book_name, str(len(book_df)), str(book_df['bible_id'].nunique()))\n",
    "    x = book_df['D_order'].tolist()\n",
    "    y = book_df['D_structure'].tolist()\n",
    "    labels = book_df['bible_id'].tolist()\n",
    "    fig, ax = plt.subplots()\n",
    "    ax.scatter(x, y)\n",
    "    plt.xlabel('Word order information')\n",
    "    plt.ylabel('Word structure information')\n",
    "    plt.title(book_name)\n",
    "    for i, txt in enumerate(labels):\n",
    "        ax.annotate(txt, (x[i], y[i]), rotation=45)"
   ]
  },
  {
   "cell_type": "code",
   "execution_count": null,
   "metadata": {},
   "outputs": [],
   "source": [
    "df['language'] = df['bible'].apply(lambda x: x.strip().split('-')[0].strip())"
   ]
  },
  {
   "cell_type": "code",
   "execution_count": null,
   "metadata": {},
   "outputs": [],
   "source": [
    "book_name = 'John'\n",
    "book_df = df[df['book'] == book_name]\n",
    "assert len(book_df) == book_df['bible_id'].nunique(), book_name\n",
    "\n",
    "book_df = book_df[['language', 'D_order', 'D_structure']].groupby('language').mean().reset_index()"
   ]
  },
  {
   "cell_type": "code",
   "execution_count": null,
   "metadata": {},
   "outputs": [],
   "source": [
    "x = book_df['D_order'].tolist()\n",
    "y = book_df['D_structure'].tolist()\n",
    "labels = book_df['language'].tolist()\n",
    "fig, ax = plt.subplots()\n",
    "ax.scatter(x, y)\n",
    "plt.xlabel('Word order information')\n",
    "plt.ylabel('Word structure information')\n",
    "plt.title(book_name)\n",
    "for i, txt in enumerate(labels):\n",
    "    ax.annotate(txt, (x[i], y[i]), rotation=45)"
   ]
  },
  {
   "cell_type": "markdown",
   "metadata": {},
   "source": [
    "Verify:\n",
    "\n",
    "* trade-off cualitativo\n",
    "* valor del fit\n",
    "* rank correlation coefficient entre los ordenes de los idiomas"
   ]
  },
  {
   "cell_type": "markdown",
   "metadata": {},
   "source": [
    "# Trade-off cualitativo\n",
    "\n",
    "Si grafico estos idiomas para los 6 libros, me da un patron similar al que se ve en Koplenig et al?"
   ]
  },
  {
   "cell_type": "code",
   "execution_count": null,
   "metadata": {},
   "outputs": [],
   "source": [
    "for book_name in sorted(df['book'].unique()):\n",
    "    book_df = df[df['book'] == book_name]\n",
    "    assert len(book_df) == book_df['bible_id'].nunique(), book_name\n",
    "    book_df = book_df[['language', 'D_order', 'D_structure']].groupby('language').mean().reset_index()\n",
    "    x = book_df['D_order'].tolist()\n",
    "    y = book_df['D_structure'].tolist()\n",
    "    labels = book_df['language'].tolist()\n",
    "    fig, ax = plt.subplots()\n",
    "    ax.scatter(x, y)\n",
    "    plt.xlabel('Word order information')\n",
    "    plt.ylabel('Word structure information')\n",
    "    plt.title(book_name)\n",
    "    for i, txt in enumerate(labels):\n",
    "        ax.annotate(txt, (x[i], y[i]), rotation=45)"
   ]
  },
  {
   "cell_type": "markdown",
   "metadata": {},
   "source": [
    "Qualitatively, this is the same as in Koplenig et al"
   ]
  }
 ],
 "metadata": {
  "kernelspec": {
   "display_name": "Python 3 (ipykernel)",
   "language": "python",
   "name": "python3"
  },
  "language_info": {
   "codemirror_mode": {
    "name": "ipython",
    "version": 3
   },
   "file_extension": ".py",
   "mimetype": "text/x-python",
   "name": "python",
   "nbconvert_exporter": "python",
   "pygments_lexer": "ipython3",
   "version": "3.12.0"
  }
 },
 "nbformat": 4,
 "nbformat_minor": 4
}
