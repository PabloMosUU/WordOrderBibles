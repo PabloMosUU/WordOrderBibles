{
 "cells": [
  {
   "cell_type": "code",
   "execution_count": null,
   "id": "93c502e1-305c-41e4-9ef5-3f376e31e91a",
   "metadata": {},
   "outputs": [],
   "source": [
    "import spacy"
   ]
  },
  {
   "cell_type": "code",
   "execution_count": null,
   "id": "31aa6fb5-350d-4194-bbec-82a9547410b5",
   "metadata": {},
   "outputs": [],
   "source": [
    "with open('6_test_bible.txt') as f:\n",
    "    lines = f.readlines()"
   ]
  },
  {
   "cell_type": "code",
   "execution_count": null,
   "id": "bfd9e363-4fe0-4336-a17c-0bb1ed0765d1",
   "metadata": {},
   "outputs": [],
   "source": [
    "lines = [line for line in lines if line.startswith('40')]"
   ]
  },
  {
   "cell_type": "code",
   "execution_count": null,
   "id": "17f0a770-e663-49a2-8ccb-229050aef0f7",
   "metadata": {},
   "outputs": [],
   "source": [
    "lines = [line.split('\\t')[1] for line in lines]"
   ]
  },
  {
   "cell_type": "code",
   "execution_count": null,
   "id": "38e0b994-2ef0-4da2-8477-6ffe8ce98739",
   "metadata": {},
   "outputs": [],
   "source": [
    "bible = ''.join(lines)"
   ]
  },
  {
   "cell_type": "code",
   "execution_count": null,
   "id": "10616485-ac1e-4db7-b286-8b34258b46b5",
   "metadata": {},
   "outputs": [],
   "source": [
    "nlp = spacy.load(\"en_core_web_lg\")\n",
    "doc = nlp(bible)"
   ]
  },
  {
   "cell_type": "code",
   "execution_count": null,
   "id": "9b41ef41-4e33-4e44-a2c7-89120de980a4",
   "metadata": {},
   "outputs": [],
   "source": [
    "tagged_words = [(token.text.lower(), token.pos_) for token in doc]"
   ]
  },
  {
   "cell_type": "code",
   "execution_count": null,
   "id": "e66a2abf-98a9-4826-8dcb-13954c8b3a63",
   "metadata": {},
   "outputs": [],
   "source": [
    "compounds = set()\n",
    "for i, tagged_word in enumerate(tagged_words):\n",
    "    if i == 0:\n",
    "        continue\n",
    "    if tagged_words[i-1][1] == 'NOUN' and tagged_word[1] == 'NOUN':\n",
    "        compounds.add(tagged_words[i-1][0] + ' ' + tagged_word[0])"
   ]
  },
  {
   "cell_type": "code",
   "execution_count": null,
   "id": "06725dda-3163-4a9e-be07-98f20bf79c67",
   "metadata": {},
   "outputs": [],
   "source": [
    "len(compounds)"
   ]
  },
  {
   "cell_type": "code",
   "execution_count": null,
   "id": "af746cf5-6631-477f-8cb7-19d7d5ffd349",
   "metadata": {},
   "outputs": [],
   "source": [
    "compounds"
   ]
  },
  {
   "cell_type": "code",
   "execution_count": null,
   "id": "00c64e6a-6536-47b9-bd4a-40cd8a329920",
   "metadata": {},
   "outputs": [],
   "source": []
  }
 ],
 "metadata": {
  "kernelspec": {
   "display_name": "Python 3 (ipykernel)",
   "language": "python",
   "name": "python3"
  },
  "language_info": {
   "codemirror_mode": {
    "name": "ipython",
    "version": 3
   },
   "file_extension": ".py",
   "mimetype": "text/x-python",
   "name": "python",
   "nbconvert_exporter": "python",
   "pygments_lexer": "ipython3",
   "version": "3.12.0"
  }
 },
 "nbformat": 4,
 "nbformat_minor": 5
}
