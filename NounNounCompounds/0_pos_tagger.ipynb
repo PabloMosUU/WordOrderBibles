{
 "cells": [
  {
   "cell_type": "code",
   "execution_count": null,
   "id": "d714399c-89bb-4fc1-835f-0249d84bce7d",
   "metadata": {},
   "outputs": [],
   "source": [
    "import spacy"
   ]
  },
  {
   "cell_type": "code",
   "execution_count": null,
   "id": "002d54a4-2882-4cc8-bda8-ca5b20d2c177",
   "metadata": {},
   "outputs": [],
   "source": [
    "# TODO: maybe we should use a larger model (see available models later)\n",
    "nlp = spacy.load(\"en_core_web_sm\")\n",
    "doc = nlp(\"Apple is looking at buying U.K. startup for $1 billion. They will sell stocks later. They are full of computer programmers.\")\n",
    "\n",
    "for token in doc:\n",
    "    print(token.text, token.pos_)"
   ]
  },
  {
   "cell_type": "code",
   "execution_count": null,
   "id": "5fe609f9-d9cf-4e60-8522-2f52a421f508",
   "metadata": {},
   "outputs": [],
   "source": [
    "nlp = spacy.load(\"nl_core_news_sm\")\n",
    "doc = nlp(\"Apple overweegt om een ​​Britse startup te kopen voor $1 miljard. Ze zullen de aandelen later verkopen. Ze zijn vol computerprogrammeurs\")\n",
    "\n",
    "for token in doc:\n",
    "    print(token.text, token.pos_)"
   ]
  },
  {
   "cell_type": "code",
   "execution_count": null,
   "id": "f9b48dff-b6a8-47a4-bbe3-e32ef9258c62",
   "metadata": {},
   "outputs": [],
   "source": [
    "text = 'Apple erwägt, das britische Startup für 1 Milliarde Dollar zu kaufen. Später wollen sie ihre Anteile verkaufen. Sie sind voll von Computerprogrammierern.'\n",
    "nlp = spacy.load(\"de_core_news_sm\")\n",
    "doc = nlp(text)\n",
    "\n",
    "for token in doc:\n",
    "    print(token.text, token.pos_)"
   ]
  },
  {
   "cell_type": "code",
   "execution_count": null,
   "id": "a6836c72-730f-4a87-aafe-31a604b1b283",
   "metadata": {},
   "outputs": [],
   "source": []
  }
 ],
 "metadata": {
  "kernelspec": {
   "display_name": "Python 3 (ipykernel)",
   "language": "python",
   "name": "python3"
  },
  "language_info": {
   "codemirror_mode": {
    "name": "ipython",
    "version": 3
   },
   "file_extension": ".py",
   "mimetype": "text/x-python",
   "name": "python",
   "nbconvert_exporter": "python",
   "pygments_lexer": "ipython3",
   "version": "3.12.0"
  }
 },
 "nbformat": 4,
 "nbformat_minor": 5
}
